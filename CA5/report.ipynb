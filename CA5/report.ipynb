{
  "cells": [
    {
      "cell_type": "markdown",
      "metadata": {
        "id": "bllXsdZ5h8Xl"
      },
      "source": [
        "<div style=\"display:block;width:100%;margin:auto;\" direction=rtl align=center><br><br>\n",
        "    <div  style=\"width:100%;margin:100;display:block;background-color:#fff0;\"  display=block align=center>\n",
        "        <table style=\"border-style:hidden;border-collapse:collapse;\">\n",
        "            <tr>\n",
        "                <td  style=\"border: none!important;\">\n",
        "                    <img width=130 align=right src=\"https://i.ibb.co/yXKQmtZ/logo1.png\" style=\"margin:0;\" />\n",
        "                </td>\n",
        "                <td style=\"text-align:center;border: none!important;\">\n",
        "                    <h1 align=center><font size=5 color=\"skyblue\">University of Tehran</i></font></h1>\n",
        "                </td>\n",
        "                <td style=\"border: none!important;\">\n",
        "                    <img width=170 align=left  src=\"https://i.ibb.co/wLjqFkw/logo2.png\" style=\"margin:0;\" />\n",
        "                </td>\n",
        "            </tr>\n",
        "        </table>\n",
        "    </div>\n",
        "</div>"
      ]
    },
    {
      "cell_type": "markdown",
      "metadata": {
        "id": "l3yjoq8OiG82"
      },
      "source": [
        "<h1 style = \"color:orange;\" dir = \"ltr\"> <b>\n",
        "    Introduction to Artificial Intelligence\n",
        "</b> </h1>\n",
        "\n",
        "<h1 style = \"color:orange;\" dir = \"ltr\"> <b>\n",
        "    CA5 - Convolutional Neural Networks (CNNs)\n",
        "</b> </h1>\n",
        "\n",
        "<h1 style = \"color:orange;\" dir = \"ltr\"> <b>\n",
        "    Mahdi Naieni - 810101536\n",
        "</b> </h1>"
      ]
    },
    {
      "cell_type": "markdown",
      "metadata": {
        "id": "GR251RqyPU5v"
      },
      "source": [
        "<h1 style = \"color:red;text-align: center;font-size:50px\"> <b>\n",
        "    Table of Contents\n",
        "</b> </h1>"
      ]
    },
    {
      "cell_type": "markdown",
      "metadata": {
        "id": "uoXOeoxSPaa5"
      },
      "source": [
        "- [Introduction](#intro)  \n",
        "\n",
        "    - [Project Summary and Objectives](#summary)\n",
        "\n",
        "    - [Understanding and Exploring the Dataset](#dataset)\n",
        "\n",
        "- [Part 0: Preprocessing of dataset](#part0)\n",
        "\n",
        "  - [Questions](#questions0)\n",
        "\n",
        "- [Part I: Feature Vectors](#part1)\n",
        "\n",
        "  - [Questions](#questions1)\n",
        "\n",
        "- [Part II: Classification using a CNN network](#part2)\n",
        "\n",
        "  - [Questions](#questions2)\n",
        "\n",
        "- [Part III: Effect of context window size on model learning](#part3)\n",
        "\n",
        "  - [Questions](#questions3)\n",
        "\n",
        "- [Part IV: Effect of regularization methods in the learning process](#part4)\n",
        "\n",
        "- [References](#references)  "
      ]
    },
    {
      "cell_type": "markdown",
      "metadata": {
        "id": "rji9yA2uidNN"
      },
      "source": [
        "<a id='intro'></a>\n",
        "\n",
        "<h1 style = \"color:red;text-align: center;font-size:50px\"> <b>\n",
        "    Introduction\n",
        "</b> </h1>"
      ]
    },
    {
      "cell_type": "markdown",
      "metadata": {
        "id": "yrpwbIRnijCp"
      },
      "source": [
        "<a id='summary'></a>\n",
        "\n",
        "<h1 style = \"color:green;font-size:30px\" dir = \"ltr\"> <b>\n",
        "    Project Summary and Objectives:\n",
        "</b> </h1>\n",
        "\n",
        "In this comprehensive exercise, we delve into the realm of text data processing. Our journey begins with preprocessing textual data, setting the stage for subsequent steps. Following this, we explore the utilization of the vec2word model, crucial for preparing our images for neural network input. The second phase focuses on constructing a convolutional neural network (CNN) utilizing the PyTorch library, aimed at classifying images effectively. As we progress, we investigate the influence of text window size on the learning capabilities of the network. Finally, we delve into the role of regularization techniques during the training process, analyzing their impact on enhancing educational outcomes."
      ]
    },
    {
      "cell_type": "code",
      "execution_count": 3,
      "metadata": {
        "colab": {
          "base_uri": "https://localhost:8080/"
        },
        "id": "ZZJiF9AEQoRF",
        "outputId": "803f62ad-e8e1-43b4-9e63-b75c0aee2a91"
      },
      "outputs": [
        {
          "name": "stdout",
          "output_type": "stream",
          "text": [
            "Requirement already satisfied: emoji in /usr/local/lib/python3.10/dist-packages (2.12.1)\n",
            "Requirement already satisfied: typing-extensions>=4.7.0 in /usr/local/lib/python3.10/dist-packages (from emoji) (4.11.0)\n"
          ]
        }
      ],
      "source": [
        "!pip install emoji"
      ]
    },
    {
      "cell_type": "code",
      "execution_count": 4,
      "metadata": {
        "id": "j4F7Xe1Q7V2-"
      },
      "outputs": [],
      "source": [
        "import numpy as np\n",
        "import pandas as pd\n",
        "import matplotlib.pyplot as plt\n",
        "import seaborn as sns\n",
        "import re\n",
        "import nltk\n",
        "from nltk.corpus import stopwords\n",
        "from nltk.stem import PorterStemmer\n",
        "from nltk.stem import WordNetLemmatizer\n",
        "from nltk.corpus import wordnet as wn\n",
        "import emoji\n",
        "import gensim.downloader as api\n",
        "import torch\n",
        "import warnings\n",
        "from torch.utils.data import Dataset, DataLoader\n",
        "import os\n",
        "import gensim\n",
        "from sklearn.model_selection import train_test_split\n",
        "import torch\n",
        "from torch.utils.data import Dataset, DataLoader\n",
        "import torch.nn as nn\n",
        "import torch.optim as optim\n",
        "from tqdm import tqdm\n",
        "from sklearn import metrics"
      ]
    },
    {
      "cell_type": "code",
      "execution_count": 5,
      "metadata": {
        "id": "JieF87gLgh3b"
      },
      "outputs": [],
      "source": [
        "LEARNING_RATE = 4e-4\n",
        "WEIGHT_DECAY = 1e-2\n",
        "BATCH_SIZE = 64\n",
        "EPOCHS = 25\n",
        "\n",
        "SEQUENCE_LEN = 64\n",
        "CNN_FILTERS = 64"
      ]
    },
    {
      "cell_type": "code",
      "execution_count": 8,
      "metadata": {
        "colab": {
          "base_uri": "https://localhost:8080/"
        },
        "id": "2H_nLJDk84xy",
        "outputId": "7c7bd125-6784-4ed1-e578-f322c41139a0"
      },
      "outputs": [
        {
          "name": "stdout",
          "output_type": "stream",
          "text": [
            "Drive already mounted at /content/drive; to attempt to forcibly remount, call drive.mount(\"/content/drive\", force_remount=True).\n"
          ]
        }
      ],
      "source": [
        "from google.colab import drive\n",
        "drive.mount('/content/drive')"
      ]
    },
    {
      "cell_type": "markdown",
      "metadata": {
        "id": "RarPNMCcmOTj"
      },
      "source": [
        "<a id='dataset'></a>\n",
        "\n",
        "<h1 style = \"color:green;font-size:30px\" dir = \"ltr\"> <b>\n",
        "    Understanding and Exploring the Dataset:\n",
        "</b> </h1>\n",
        "\n",
        "In this exercise, we utilize a specialized text dataset designed to identify expressions of suicidal thoughts within social media platforms, specifically Twitter. This dataset, affectionately referred to as \"data-suicidal-twitter,\" comprises a curated selection of tweets, categorized based on their content regarding suicidal ideation. Each entry in the dataset is presented as textual data, allowing for detailed analysis. Furthermore, each tweet is assigned a label indicating its intent: a value of 1 denotes potential suicidal thoughts, whereas a value of 0 signifies no such indications."
      ]
    },
    {
      "cell_type": "code",
      "execution_count": 9,
      "metadata": {
        "colab": {
          "base_uri": "https://localhost:8080/",
          "height": 363
        },
        "id": "TrxsY6lK-G3l",
        "outputId": "ce1ee0ae-8805-4ada-9b31-fcb01ab56862"
      },
      "outputs": [
        {
          "data": {
            "text/html": [
              "<style type=\"text/css\">\n",
              "#T_1687c_row0_col1, #T_1687c_row1_col1, #T_1687c_row2_col1, #T_1687c_row4_col1, #T_1687c_row5_col1, #T_1687c_row6_col1, #T_1687c_row7_col1, #T_1687c_row8_col1, #T_1687c_row9_col1 {\n",
              "  background-color: #67000d;\n",
              "  color: #f1f1f1;\n",
              "}\n",
              "#T_1687c_row3_col1 {\n",
              "  background-color: #fff5f0;\n",
              "  color: #000000;\n",
              "}\n",
              "</style>\n",
              "<table id=\"T_1687c\" class=\"dataframe\">\n",
              "  <thead>\n",
              "    <tr>\n",
              "      <th class=\"blank level0\" >&nbsp;</th>\n",
              "      <th id=\"T_1687c_level0_col0\" class=\"col_heading level0 col0\" >tweet</th>\n",
              "      <th id=\"T_1687c_level0_col1\" class=\"col_heading level0 col1\" >intention</th>\n",
              "    </tr>\n",
              "  </thead>\n",
              "  <tbody>\n",
              "    <tr>\n",
              "      <th id=\"T_1687c_level0_row0\" class=\"row_heading level0 row0\" >9109</th>\n",
              "      <td id=\"T_1687c_row0_col0\" class=\"data row0 col0\" >the loneliest moment in someone s life is when they are watching their whole world fall apart and all they can do is stare blankly </td>\n",
              "      <td id=\"T_1687c_row0_col1\" class=\"data row0 col1\" >1</td>\n",
              "    </tr>\n",
              "    <tr>\n",
              "      <th id=\"T_1687c_level0_row1\" class=\"row_heading level0 row1\" >9110</th>\n",
              "      <td id=\"T_1687c_row1_col0\" class=\"data row1 col0\" >you re afraid to tell people how you feel because it will destroy them so you bury it deep inside yourself where it destroys you </td>\n",
              "      <td id=\"T_1687c_row1_col1\" class=\"data row1 col1\" >1</td>\n",
              "    </tr>\n",
              "    <tr>\n",
              "      <th id=\"T_1687c_level0_row2\" class=\"row_heading level0 row2\" >9111</th>\n",
              "      <td id=\"T_1687c_row2_col0\" class=\"data row2 col0\" >i hate it when people tell me to just be happy so you think i chose to just be depressed </td>\n",
              "      <td id=\"T_1687c_row2_col1\" class=\"data row2 col1\" >1</td>\n",
              "    </tr>\n",
              "    <tr>\n",
              "      <th id=\"T_1687c_level0_row3\" class=\"row_heading level0 row3\" >9112</th>\n",
              "      <td id=\"T_1687c_row3_col0\" class=\"data row3 col0\" >fake friends are like shadows they follow you in the sun but leave you in the dark</td>\n",
              "      <td id=\"T_1687c_row3_col1\" class=\"data row3 col1\" >0</td>\n",
              "    </tr>\n",
              "    <tr>\n",
              "      <th id=\"T_1687c_level0_row4\" class=\"row_heading level0 row4\" >9113</th>\n",
              "      <td id=\"T_1687c_row4_col0\" class=\"data row4 col0\" >most girls my age have a pretty face i just have scars </td>\n",
              "      <td id=\"T_1687c_row4_col1\" class=\"data row4 col1\" >1</td>\n",
              "    </tr>\n",
              "    <tr>\n",
              "      <th id=\"T_1687c_level0_row5\" class=\"row_heading level0 row5\" >9114</th>\n",
              "      <td id=\"T_1687c_row5_col0\" class=\"data row5 col0\" >have you ever laid on your bed at night and cried because you re not good enough counted all your flaws and felt worse about yourself and just felt to ugly and alone</td>\n",
              "      <td id=\"T_1687c_row5_col1\" class=\"data row5 col1\" >1</td>\n",
              "    </tr>\n",
              "    <tr>\n",
              "      <th id=\"T_1687c_level0_row6\" class=\"row_heading level0 row6\" >9115</th>\n",
              "      <td id=\"T_1687c_row6_col0\" class=\"data row6 col0\" >the fault the blame the pain s still there i m here alone inside of this broken home broken home </td>\n",
              "      <td id=\"T_1687c_row6_col1\" class=\"data row6 col1\" >1</td>\n",
              "    </tr>\n",
              "    <tr>\n",
              "      <th id=\"T_1687c_level0_row7\" class=\"row_heading level0 row7\" >9116</th>\n",
              "      <td id=\"T_1687c_row7_col0\" class=\"data row7 col0\" >stop asking me to trust you when i m still coughing up the water from the last time you let me drown </td>\n",
              "      <td id=\"T_1687c_row7_col1\" class=\"data row7 col1\" >1</td>\n",
              "    </tr>\n",
              "    <tr>\n",
              "      <th id=\"T_1687c_level0_row8\" class=\"row_heading level0 row8\" >9117</th>\n",
              "      <td id=\"T_1687c_row8_col0\" class=\"data row8 col0\" >i never know how to handle sadness crying makes me feel stupid </td>\n",
              "      <td id=\"T_1687c_row8_col1\" class=\"data row8 col1\" >1</td>\n",
              "    </tr>\n",
              "    <tr>\n",
              "      <th id=\"T_1687c_level0_row9\" class=\"row_heading level0 row9\" >9118</th>\n",
              "      <td id=\"T_1687c_row9_col0\" class=\"data row9 col0\" >when cancer takes a life we blame cancer depression is a disease don t blame the victim for losing the fight</td>\n",
              "      <td id=\"T_1687c_row9_col1\" class=\"data row9 col1\" >1</td>\n",
              "    </tr>\n",
              "  </tbody>\n",
              "</table>\n"
            ],
            "text/plain": [
              "<pandas.io.formats.style.Styler at 0x7ff26aa13340>"
            ]
          },
          "execution_count": 9,
          "metadata": {},
          "output_type": "execute_result"
        }
      ],
      "source": [
        "df = pd.read_csv(\"/content/drive/MyDrive/twitter-suicidal-data.csv\")\n",
        "df.tail(10).style.background_gradient(cmap='Reds')"
      ]
    },
    {
      "cell_type": "code",
      "execution_count": 10,
      "metadata": {
        "colab": {
          "base_uri": "https://localhost:8080/"
        },
        "id": "1VTWXqAqefuM",
        "outputId": "7fd6ab78-da7d-40bf-af10-5442076957b7"
      },
      "outputs": [
        {
          "name": "stdout",
          "output_type": "stream",
          "text": [
            "(9119, 2) \n",
            "\n",
            "<class 'pandas.core.frame.DataFrame'>\n",
            "RangeIndex: 9119 entries, 0 to 9118\n",
            "Data columns (total 2 columns):\n",
            " #   Column     Non-Null Count  Dtype \n",
            "---  ------     --------------  ----- \n",
            " 0   tweet      9119 non-null   object\n",
            " 1   intention  9119 non-null   int64 \n",
            "dtypes: int64(1), object(1)\n",
            "memory usage: 142.6+ KB\n"
          ]
        }
      ],
      "source": [
        "print(df.shape, \"\\n\")\n",
        "df.info()"
      ]
    },
    {
      "cell_type": "code",
      "execution_count": 11,
      "metadata": {
        "colab": {
          "base_uri": "https://localhost:8080/",
          "height": 112
        },
        "id": "cXzLpWIPezhf",
        "outputId": "854a6e24-1633-4813-f42b-792aa6c066b7"
      },
      "outputs": [
        {
          "data": {
            "application/vnd.google.colaboratory.intrinsic+json": {
              "summary": "{\n  \"name\": \"missing_data_df\",\n  \"rows\": 2,\n  \"fields\": [\n    {\n      \"column\": \"Missing Values\",\n      \"properties\": {\n        \"dtype\": \"number\",\n        \"std\": 0,\n        \"min\": 0,\n        \"max\": 0,\n        \"num_unique_values\": 1,\n        \"samples\": [\n          0\n        ],\n        \"semantic_type\": \"\",\n        \"description\": \"\"\n      }\n    },\n    {\n      \"column\": \"Percentage Missing\",\n      \"properties\": {\n        \"dtype\": \"number\",\n        \"std\": 0.0,\n        \"min\": 0.0,\n        \"max\": 0.0,\n        \"num_unique_values\": 1,\n        \"samples\": [\n          0.0\n        ],\n        \"semantic_type\": \"\",\n        \"description\": \"\"\n      }\n    }\n  ]\n}",
              "type": "dataframe",
              "variable_name": "missing_data_df"
            },
            "text/html": [
              "\n",
              "  <div id=\"df-9fca6fe3-a44b-4d5b-aa4c-5fb7b0150bb0\" class=\"colab-df-container\">\n",
              "    <div>\n",
              "<style scoped>\n",
              "    .dataframe tbody tr th:only-of-type {\n",
              "        vertical-align: middle;\n",
              "    }\n",
              "\n",
              "    .dataframe tbody tr th {\n",
              "        vertical-align: top;\n",
              "    }\n",
              "\n",
              "    .dataframe thead th {\n",
              "        text-align: right;\n",
              "    }\n",
              "</style>\n",
              "<table border=\"1\" class=\"dataframe\">\n",
              "  <thead>\n",
              "    <tr style=\"text-align: right;\">\n",
              "      <th></th>\n",
              "      <th>Missing Values</th>\n",
              "      <th>Percentage Missing</th>\n",
              "    </tr>\n",
              "  </thead>\n",
              "  <tbody>\n",
              "    <tr>\n",
              "      <th>tweet</th>\n",
              "      <td>0</td>\n",
              "      <td>0.0</td>\n",
              "    </tr>\n",
              "    <tr>\n",
              "      <th>intention</th>\n",
              "      <td>0</td>\n",
              "      <td>0.0</td>\n",
              "    </tr>\n",
              "  </tbody>\n",
              "</table>\n",
              "</div>\n",
              "    <div class=\"colab-df-buttons\">\n",
              "\n",
              "  <div class=\"colab-df-container\">\n",
              "    <button class=\"colab-df-convert\" onclick=\"convertToInteractive('df-9fca6fe3-a44b-4d5b-aa4c-5fb7b0150bb0')\"\n",
              "            title=\"Convert this dataframe to an interactive table.\"\n",
              "            style=\"display:none;\">\n",
              "\n",
              "  <svg xmlns=\"http://www.w3.org/2000/svg\" height=\"24px\" viewBox=\"0 -960 960 960\">\n",
              "    <path d=\"M120-120v-720h720v720H120Zm60-500h600v-160H180v160Zm220 220h160v-160H400v160Zm0 220h160v-160H400v160ZM180-400h160v-160H180v160Zm440 0h160v-160H620v160ZM180-180h160v-160H180v160Zm440 0h160v-160H620v160Z\"/>\n",
              "  </svg>\n",
              "    </button>\n",
              "\n",
              "  <style>\n",
              "    .colab-df-container {\n",
              "      display:flex;\n",
              "      gap: 12px;\n",
              "    }\n",
              "\n",
              "    .colab-df-convert {\n",
              "      background-color: #E8F0FE;\n",
              "      border: none;\n",
              "      border-radius: 50%;\n",
              "      cursor: pointer;\n",
              "      display: none;\n",
              "      fill: #1967D2;\n",
              "      height: 32px;\n",
              "      padding: 0 0 0 0;\n",
              "      width: 32px;\n",
              "    }\n",
              "\n",
              "    .colab-df-convert:hover {\n",
              "      background-color: #E2EBFA;\n",
              "      box-shadow: 0px 1px 2px rgba(60, 64, 67, 0.3), 0px 1px 3px 1px rgba(60, 64, 67, 0.15);\n",
              "      fill: #174EA6;\n",
              "    }\n",
              "\n",
              "    .colab-df-buttons div {\n",
              "      margin-bottom: 4px;\n",
              "    }\n",
              "\n",
              "    [theme=dark] .colab-df-convert {\n",
              "      background-color: #3B4455;\n",
              "      fill: #D2E3FC;\n",
              "    }\n",
              "\n",
              "    [theme=dark] .colab-df-convert:hover {\n",
              "      background-color: #434B5C;\n",
              "      box-shadow: 0px 1px 3px 1px rgba(0, 0, 0, 0.15);\n",
              "      filter: drop-shadow(0px 1px 2px rgba(0, 0, 0, 0.3));\n",
              "      fill: #FFFFFF;\n",
              "    }\n",
              "  </style>\n",
              "\n",
              "    <script>\n",
              "      const buttonEl =\n",
              "        document.querySelector('#df-9fca6fe3-a44b-4d5b-aa4c-5fb7b0150bb0 button.colab-df-convert');\n",
              "      buttonEl.style.display =\n",
              "        google.colab.kernel.accessAllowed ? 'block' : 'none';\n",
              "\n",
              "      async function convertToInteractive(key) {\n",
              "        const element = document.querySelector('#df-9fca6fe3-a44b-4d5b-aa4c-5fb7b0150bb0');\n",
              "        const dataTable =\n",
              "          await google.colab.kernel.invokeFunction('convertToInteractive',\n",
              "                                                    [key], {});\n",
              "        if (!dataTable) return;\n",
              "\n",
              "        const docLinkHtml = 'Like what you see? Visit the ' +\n",
              "          '<a target=\"_blank\" href=https://colab.research.google.com/notebooks/data_table.ipynb>data table notebook</a>'\n",
              "          + ' to learn more about interactive tables.';\n",
              "        element.innerHTML = '';\n",
              "        dataTable['output_type'] = 'display_data';\n",
              "        await google.colab.output.renderOutput(dataTable, element);\n",
              "        const docLink = document.createElement('div');\n",
              "        docLink.innerHTML = docLinkHtml;\n",
              "        element.appendChild(docLink);\n",
              "      }\n",
              "    </script>\n",
              "  </div>\n",
              "\n",
              "\n",
              "<div id=\"df-e0da2c06-2ce0-47e3-b650-0114227756dd\">\n",
              "  <button class=\"colab-df-quickchart\" onclick=\"quickchart('df-e0da2c06-2ce0-47e3-b650-0114227756dd')\"\n",
              "            title=\"Suggest charts\"\n",
              "            style=\"display:none;\">\n",
              "\n",
              "<svg xmlns=\"http://www.w3.org/2000/svg\" height=\"24px\"viewBox=\"0 0 24 24\"\n",
              "     width=\"24px\">\n",
              "    <g>\n",
              "        <path d=\"M19 3H5c-1.1 0-2 .9-2 2v14c0 1.1.9 2 2 2h14c1.1 0 2-.9 2-2V5c0-1.1-.9-2-2-2zM9 17H7v-7h2v7zm4 0h-2V7h2v10zm4 0h-2v-4h2v4z\"/>\n",
              "    </g>\n",
              "</svg>\n",
              "  </button>\n",
              "\n",
              "<style>\n",
              "  .colab-df-quickchart {\n",
              "      --bg-color: #E8F0FE;\n",
              "      --fill-color: #1967D2;\n",
              "      --hover-bg-color: #E2EBFA;\n",
              "      --hover-fill-color: #174EA6;\n",
              "      --disabled-fill-color: #AAA;\n",
              "      --disabled-bg-color: #DDD;\n",
              "  }\n",
              "\n",
              "  [theme=dark] .colab-df-quickchart {\n",
              "      --bg-color: #3B4455;\n",
              "      --fill-color: #D2E3FC;\n",
              "      --hover-bg-color: #434B5C;\n",
              "      --hover-fill-color: #FFFFFF;\n",
              "      --disabled-bg-color: #3B4455;\n",
              "      --disabled-fill-color: #666;\n",
              "  }\n",
              "\n",
              "  .colab-df-quickchart {\n",
              "    background-color: var(--bg-color);\n",
              "    border: none;\n",
              "    border-radius: 50%;\n",
              "    cursor: pointer;\n",
              "    display: none;\n",
              "    fill: var(--fill-color);\n",
              "    height: 32px;\n",
              "    padding: 0;\n",
              "    width: 32px;\n",
              "  }\n",
              "\n",
              "  .colab-df-quickchart:hover {\n",
              "    background-color: var(--hover-bg-color);\n",
              "    box-shadow: 0 1px 2px rgba(60, 64, 67, 0.3), 0 1px 3px 1px rgba(60, 64, 67, 0.15);\n",
              "    fill: var(--button-hover-fill-color);\n",
              "  }\n",
              "\n",
              "  .colab-df-quickchart-complete:disabled,\n",
              "  .colab-df-quickchart-complete:disabled:hover {\n",
              "    background-color: var(--disabled-bg-color);\n",
              "    fill: var(--disabled-fill-color);\n",
              "    box-shadow: none;\n",
              "  }\n",
              "\n",
              "  .colab-df-spinner {\n",
              "    border: 2px solid var(--fill-color);\n",
              "    border-color: transparent;\n",
              "    border-bottom-color: var(--fill-color);\n",
              "    animation:\n",
              "      spin 1s steps(1) infinite;\n",
              "  }\n",
              "\n",
              "  @keyframes spin {\n",
              "    0% {\n",
              "      border-color: transparent;\n",
              "      border-bottom-color: var(--fill-color);\n",
              "      border-left-color: var(--fill-color);\n",
              "    }\n",
              "    20% {\n",
              "      border-color: transparent;\n",
              "      border-left-color: var(--fill-color);\n",
              "      border-top-color: var(--fill-color);\n",
              "    }\n",
              "    30% {\n",
              "      border-color: transparent;\n",
              "      border-left-color: var(--fill-color);\n",
              "      border-top-color: var(--fill-color);\n",
              "      border-right-color: var(--fill-color);\n",
              "    }\n",
              "    40% {\n",
              "      border-color: transparent;\n",
              "      border-right-color: var(--fill-color);\n",
              "      border-top-color: var(--fill-color);\n",
              "    }\n",
              "    60% {\n",
              "      border-color: transparent;\n",
              "      border-right-color: var(--fill-color);\n",
              "    }\n",
              "    80% {\n",
              "      border-color: transparent;\n",
              "      border-right-color: var(--fill-color);\n",
              "      border-bottom-color: var(--fill-color);\n",
              "    }\n",
              "    90% {\n",
              "      border-color: transparent;\n",
              "      border-bottom-color: var(--fill-color);\n",
              "    }\n",
              "  }\n",
              "</style>\n",
              "\n",
              "  <script>\n",
              "    async function quickchart(key) {\n",
              "      const quickchartButtonEl =\n",
              "        document.querySelector('#' + key + ' button');\n",
              "      quickchartButtonEl.disabled = true;  // To prevent multiple clicks.\n",
              "      quickchartButtonEl.classList.add('colab-df-spinner');\n",
              "      try {\n",
              "        const charts = await google.colab.kernel.invokeFunction(\n",
              "            'suggestCharts', [key], {});\n",
              "      } catch (error) {\n",
              "        console.error('Error during call to suggestCharts:', error);\n",
              "      }\n",
              "      quickchartButtonEl.classList.remove('colab-df-spinner');\n",
              "      quickchartButtonEl.classList.add('colab-df-quickchart-complete');\n",
              "    }\n",
              "    (() => {\n",
              "      let quickchartButtonEl =\n",
              "        document.querySelector('#df-e0da2c06-2ce0-47e3-b650-0114227756dd button');\n",
              "      quickchartButtonEl.style.display =\n",
              "        google.colab.kernel.accessAllowed ? 'block' : 'none';\n",
              "    })();\n",
              "  </script>\n",
              "</div>\n",
              "    </div>\n",
              "  </div>\n"
            ],
            "text/plain": [
              "           Missing Values  Percentage Missing\n",
              "tweet                   0                 0.0\n",
              "intention               0                 0.0"
            ]
          },
          "execution_count": 11,
          "metadata": {},
          "output_type": "execute_result"
        }
      ],
      "source": [
        "missing_values = df.isnull().sum()\n",
        "missing_percentage = (df.isnull().sum() / len(df)) * 100\n",
        "missing_data_df = pd.DataFrame({'Missing Values': missing_values, 'Percentage Missing': missing_percentage})\n",
        "missing_data_df"
      ]
    },
    {
      "cell_type": "code",
      "execution_count": 12,
      "metadata": {
        "colab": {
          "base_uri": "https://localhost:8080/",
          "height": 413
        },
        "id": "6JGWhc5AfI4r",
        "outputId": "8501d453-0155-4277-871b-8da5bae736f0"
      },
      "outputs": [
        {
          "data": {
            "image/png": "[encoded data removed]",
            "text/plain": [
              "<Figure size 900x400 with 1 Axes>"
            ]
          },
          "metadata": {},
          "output_type": "display_data"
        }
      ],
      "source": [
        "sns.set_theme()\n",
        "intention_values =  df['intention'].value_counts()\n",
        "intention_values.plot(kind='bar', figsize=(9, 4), color= [\"b\", \"r\"])\n",
        "plt.title('intention')\n",
        "plt.xlabel('intention(yes/no)')\n",
        "plt.ylabel('count')\n",
        "plt.show()"
      ]
    },
    {
      "cell_type": "markdown",
      "metadata": {
        "id": "ydYlSzyan072"
      },
      "source": [
        "<a id='part0'></a>\n",
        "\n",
        "<h1 style = \"color:red;text-align: center;font-size:50px\"> <b>\n",
        "    Part 0: Preprocessing of dataset\n",
        "</b> </h1>"
      ]
    },
    {
      "cell_type": "code",
      "execution_count": 13,
      "metadata": {
        "colab": {
          "base_uri": "https://localhost:8080/"
        },
        "id": "UO1ZczXbm-s9",
        "outputId": "ca218beb-d43f-4f50-a2d4-baecca0de26a"
      },
      "outputs": [
        {
          "name": "stderr",
          "output_type": "stream",
          "text": [
            "[nltk_data] Downloading package stopwords to /root/nltk_data...\n",
            "[nltk_data]   Unzipping corpora/stopwords.zip.\n",
            "[nltk_data] Downloading package punkt to /root/nltk_data...\n",
            "[nltk_data]   Unzipping tokenizers/punkt.zip.\n",
            "[nltk_data] Downloading package stopwords to /root/nltk_data...\n",
            "[nltk_data]   Package stopwords is already up-to-date!\n",
            "[nltk_data] Downloading package punkt to /root/nltk_data...\n",
            "[nltk_data]   Package punkt is already up-to-date!\n",
            "[nltk_data] Downloading package wordnet to /root/nltk_data...\n",
            "[nltk_data] Downloading package averaged_perceptron_tagger to\n",
            "[nltk_data]     /root/nltk_data...\n",
            "[nltk_data]   Unzipping taggers/averaged_perceptron_tagger.zip.\n"
          ]
        },
        {
          "data": {
            "text/plain": [
              "True"
            ]
          },
          "execution_count": 13,
          "metadata": {},
          "output_type": "execute_result"
        }
      ],
      "source": [
        "nltk.download('stopwords')\n",
        "nltk.download('punkt')\n",
        "nltk.download('stopwords')\n",
        "nltk.download('punkt')\n",
        "nltk.download('wordnet')\n",
        "nltk.download('averaged_perceptron_tagger')"
      ]
    },
    {
      "cell_type": "code",
      "execution_count": 14,
      "metadata": {
        "id": "5WIL-Xvwmw5u"
      },
      "outputs": [],
      "source": [
        "# Initialize stop words and lemmatizer\n",
        "lemmatizer = WordNetLemmatizer()\n",
        "stop_words = set(stopwords.words('english'))\n",
        "if 'no' in stop_words:\n",
        "  stop_words.remove('no')\n",
        "if 'not' in stop_words:\n",
        "  stop_words.remove('not')\n",
        "\n",
        "def convert_emoji_to_text(text):\n",
        "    return emoji.demojize(text, delimiters=(\" \", \" \"))\n",
        "\n",
        "def nltk_pos_tagger(word):\n",
        "    tag = nltk.pos_tag([word])[0][1][0].upper()\n",
        "    tag_dict = {\"J\": wn.ADJ, \"N\": wn.NOUN, \"V\": wn.VERB, \"R\": wn.ADV}\n",
        "    return tag_dict.get(tag, wn.NOUN)\n",
        "\n",
        "def preprocess_data(tweet: str):\n",
        "    # Convert text to lowercase\n",
        "    tweet = tweet.lower()\n",
        "\n",
        "    # Removing punctuation marks, but keeping hashtags (#)\n",
        "    tweet = re.sub(r'[^\\w\\s#@]', '', tweet)\n",
        "    tweet = tweet.replace('\\n', ' ')\n",
        "\n",
        "    # Delete numbers\n",
        "    tweet = re.sub(r'\\d+', '', tweet)\n",
        "\n",
        "    # Deleting links\n",
        "    tweet = re.sub(r'http\\S+|www.\\S+', '', tweet)\n",
        "\n",
        "    # Deleting links\n",
        "    tweet = re.sub(r'http\\S+|www.\\S+|https\\S+', '', tweet)\n",
        "\n",
        "    # Removing references to other social network users\n",
        "    tweet = re.sub(r'@\\w+', '', tweet)\n",
        "\n",
        "    # Remove emojis and replace them with space\n",
        "    tweet = convert_emoji_to_text(tweet)\n",
        "\n",
        "    # Unification of whitespaces\n",
        "    tweet = re.sub(r'\\s+', ' ', tweet).strip()\n",
        "\n",
        "    # Tokenizing the tweet\n",
        "    tokens = nltk.word_tokenize(tweet)\n",
        "\n",
        "    # Remove non-word terms (keeping only words)\n",
        "    tokens = [token for token in tokens if token.isalpha()]\n",
        "\n",
        "    # Rooting tokens (lemmatizing)\n",
        "    tokens = [lemmatizer.lemmatize(token, nltk_pos_tagger(token)) for token in tokens]\n",
        "\n",
        "    # Remove stop words\n",
        "    tokens = [token for token in tokens if token not in stop_words]\n",
        "\n",
        "    return tokens"
      ]
    },
    {
      "cell_type": "code",
      "execution_count": 15,
      "metadata": {
        "colab": {
          "base_uri": "https://localhost:8080/",
          "height": 449
        },
        "id": "-yuuYlqSzgC8",
        "outputId": "8120d0db-dd1c-432d-abb5-f4f59a133dc1"
      },
      "outputs": [
        {
          "data": {
            "text/html": [
              "<style type=\"text/css\">\n",
              "#T_7d139_row0_col1, #T_7d139_row1_col1, #T_7d139_row2_col1, #T_7d139_row4_col1, #T_7d139_row5_col1, #T_7d139_row5_col3, #T_7d139_row6_col1, #T_7d139_row7_col1, #T_7d139_row8_col1, #T_7d139_row9_col1 {\n",
              "  background-color: #67000d;\n",
              "  color: #f1f1f1;\n",
              "}\n",
              "#T_7d139_row0_col3, #T_7d139_row9_col3 {\n",
              "  background-color: #f14432;\n",
              "  color: #f1f1f1;\n",
              "}\n",
              "#T_7d139_row1_col3 {\n",
              "  background-color: #fc8a6a;\n",
              "  color: #f1f1f1;\n",
              "}\n",
              "#T_7d139_row2_col3 {\n",
              "  background-color: #fdcab5;\n",
              "  color: #000000;\n",
              "}\n",
              "#T_7d139_row3_col1, #T_7d139_row4_col3 {\n",
              "  background-color: #fff5f0;\n",
              "  color: #000000;\n",
              "}\n",
              "#T_7d139_row3_col3, #T_7d139_row8_col3 {\n",
              "  background-color: #fcab8f;\n",
              "  color: #000000;\n",
              "}\n",
              "#T_7d139_row6_col3, #T_7d139_row7_col3 {\n",
              "  background-color: #fb694a;\n",
              "  color: #f1f1f1;\n",
              "}\n",
              "</style>\n",
              "<table id=\"T_7d139\" class=\"dataframe\">\n",
              "  <thead>\n",
              "    <tr>\n",
              "      <th class=\"blank level0\" >&nbsp;</th>\n",
              "      <th id=\"T_7d139_level0_col0\" class=\"col_heading level0 col0\" >tweet</th>\n",
              "      <th id=\"T_7d139_level0_col1\" class=\"col_heading level0 col1\" >intention</th>\n",
              "      <th id=\"T_7d139_level0_col2\" class=\"col_heading level0 col2\" >tokens_test</th>\n",
              "      <th id=\"T_7d139_level0_col3\" class=\"col_heading level0 col3\" >token_count</th>\n",
              "    </tr>\n",
              "  </thead>\n",
              "  <tbody>\n",
              "    <tr>\n",
              "      <th id=\"T_7d139_level0_row0\" class=\"row_heading level0 row0\" >9109</th>\n",
              "      <td id=\"T_7d139_row0_col0\" class=\"data row0 col0\" >the loneliest moment in someone s life is when they are watching their whole world fall apart and all they can do is stare blankly </td>\n",
              "      <td id=\"T_7d139_row0_col1\" class=\"data row0 col1\" >1</td>\n",
              "      <td id=\"T_7d139_row0_col2\" class=\"data row0 col2\" >['lonely', 'moment', 'someone', 'life', 'watch', 'whole', 'world', 'fall', 'apart', 'stare', 'blankly']</td>\n",
              "      <td id=\"T_7d139_row0_col3\" class=\"data row0 col3\" >11</td>\n",
              "    </tr>\n",
              "    <tr>\n",
              "      <th id=\"T_7d139_level0_row1\" class=\"row_heading level0 row1\" >9110</th>\n",
              "      <td id=\"T_7d139_row1_col0\" class=\"data row1 col0\" >you re afraid to tell people how you feel because it will destroy them so you bury it deep inside yourself where it destroys you </td>\n",
              "      <td id=\"T_7d139_row1_col1\" class=\"data row1 col1\" >1</td>\n",
              "      <td id=\"T_7d139_row1_col2\" class=\"data row1 col2\" >['afraid', 'tell', 'people', 'feel', 'destroy', 'bury', 'deep', 'inside', 'destroys']</td>\n",
              "      <td id=\"T_7d139_row1_col3\" class=\"data row1 col3\" >9</td>\n",
              "    </tr>\n",
              "    <tr>\n",
              "      <th id=\"T_7d139_level0_row2\" class=\"row_heading level0 row2\" >9111</th>\n",
              "      <td id=\"T_7d139_row2_col0\" class=\"data row2 col0\" >i hate it when people tell me to just be happy so you think i chose to just be depressed </td>\n",
              "      <td id=\"T_7d139_row2_col1\" class=\"data row2 col1\" >1</td>\n",
              "      <td id=\"T_7d139_row2_col2\" class=\"data row2 col2\" >['hate', 'people', 'tell', 'happy', 'think', 'chose', 'depressed']</td>\n",
              "      <td id=\"T_7d139_row2_col3\" class=\"data row2 col3\" >7</td>\n",
              "    </tr>\n",
              "    <tr>\n",
              "      <th id=\"T_7d139_level0_row3\" class=\"row_heading level0 row3\" >9112</th>\n",
              "      <td id=\"T_7d139_row3_col0\" class=\"data row3 col0\" >fake friends are like shadows they follow you in the sun but leave you in the dark</td>\n",
              "      <td id=\"T_7d139_row3_col1\" class=\"data row3 col1\" >0</td>\n",
              "      <td id=\"T_7d139_row3_col2\" class=\"data row3 col2\" >['fake', 'friend', 'like', 'shadow', 'follow', 'sun', 'leave', 'dark']</td>\n",
              "      <td id=\"T_7d139_row3_col3\" class=\"data row3 col3\" >8</td>\n",
              "    </tr>\n",
              "    <tr>\n",
              "      <th id=\"T_7d139_level0_row4\" class=\"row_heading level0 row4\" >9113</th>\n",
              "      <td id=\"T_7d139_row4_col0\" class=\"data row4 col0\" >most girls my age have a pretty face i just have scars </td>\n",
              "      <td id=\"T_7d139_row4_col1\" class=\"data row4 col1\" >1</td>\n",
              "      <td id=\"T_7d139_row4_col2\" class=\"data row4 col2\" >['girl', 'age', 'pretty', 'face', 'scar']</td>\n",
              "      <td id=\"T_7d139_row4_col3\" class=\"data row4 col3\" >5</td>\n",
              "    </tr>\n",
              "    <tr>\n",
              "      <th id=\"T_7d139_level0_row5\" class=\"row_heading level0 row5\" >9114</th>\n",
              "      <td id=\"T_7d139_row5_col0\" class=\"data row5 col0\" >have you ever laid on your bed at night and cried because you re not good enough counted all your flaws and felt worse about yourself and just felt to ugly and alone</td>\n",
              "      <td id=\"T_7d139_row5_col1\" class=\"data row5 col1\" >1</td>\n",
              "      <td id=\"T_7d139_row5_col2\" class=\"data row5 col2\" >['ever', 'laid', 'bed', 'night', 'cry', 'not', 'good', 'enough', 'count', 'flaw', 'felt', 'bad', 'felt', 'ugly', 'alone']</td>\n",
              "      <td id=\"T_7d139_row5_col3\" class=\"data row5 col3\" >15</td>\n",
              "    </tr>\n",
              "    <tr>\n",
              "      <th id=\"T_7d139_level0_row6\" class=\"row_heading level0 row6\" >9115</th>\n",
              "      <td id=\"T_7d139_row6_col0\" class=\"data row6 col0\" >the fault the blame the pain s still there i m here alone inside of this broken home broken home </td>\n",
              "      <td id=\"T_7d139_row6_col1\" class=\"data row6 col1\" >1</td>\n",
              "      <td id=\"T_7d139_row6_col2\" class=\"data row6 col2\" >['fault', 'blame', 'pain', 'still', 'alone', 'inside', 'broken', 'home', 'broken', 'home']</td>\n",
              "      <td id=\"T_7d139_row6_col3\" class=\"data row6 col3\" >10</td>\n",
              "    </tr>\n",
              "    <tr>\n",
              "      <th id=\"T_7d139_level0_row7\" class=\"row_heading level0 row7\" >9116</th>\n",
              "      <td id=\"T_7d139_row7_col0\" class=\"data row7 col0\" >stop asking me to trust you when i m still coughing up the water from the last time you let me drown </td>\n",
              "      <td id=\"T_7d139_row7_col1\" class=\"data row7 col1\" >1</td>\n",
              "      <td id=\"T_7d139_row7_col2\" class=\"data row7 col2\" >['stop', 'ask', 'trust', 'still', 'cough', 'water', 'last', 'time', 'let', 'drown']</td>\n",
              "      <td id=\"T_7d139_row7_col3\" class=\"data row7 col3\" >10</td>\n",
              "    </tr>\n",
              "    <tr>\n",
              "      <th id=\"T_7d139_level0_row8\" class=\"row_heading level0 row8\" >9117</th>\n",
              "      <td id=\"T_7d139_row8_col0\" class=\"data row8 col0\" >i never know how to handle sadness crying makes me feel stupid </td>\n",
              "      <td id=\"T_7d139_row8_col1\" class=\"data row8 col1\" >1</td>\n",
              "      <td id=\"T_7d139_row8_col2\" class=\"data row8 col2\" >['never', 'know', 'handle', 'sadness', 'cry', 'make', 'feel', 'stupid']</td>\n",
              "      <td id=\"T_7d139_row8_col3\" class=\"data row8 col3\" >8</td>\n",
              "    </tr>\n",
              "    <tr>\n",
              "      <th id=\"T_7d139_level0_row9\" class=\"row_heading level0 row9\" >9118</th>\n",
              "      <td id=\"T_7d139_row9_col0\" class=\"data row9 col0\" >when cancer takes a life we blame cancer depression is a disease don t blame the victim for losing the fight</td>\n",
              "      <td id=\"T_7d139_row9_col1\" class=\"data row9 col1\" >1</td>\n",
              "      <td id=\"T_7d139_row9_col2\" class=\"data row9 col2\" >['cancer', 'take', 'life', 'blame', 'cancer', 'depression', 'disease', 'blame', 'victim', 'lose', 'fight']</td>\n",
              "      <td id=\"T_7d139_row9_col3\" class=\"data row9 col3\" >11</td>\n",
              "    </tr>\n",
              "  </tbody>\n",
              "</table>\n"
            ],
            "text/plain": [
              "<pandas.io.formats.style.Styler at 0x7ff18097ba90>"
            ]
          },
          "execution_count": 15,
          "metadata": {},
          "output_type": "execute_result"
        }
      ],
      "source": [
        "df['tokens_test'] = df['tweet'].apply(preprocess_data)\n",
        "df['token_count'] = df['tokens_test'].apply(len)\n",
        "df.tail(10).style.background_gradient(cmap='Reds')"
      ]
    },
    {
      "cell_type": "code",
      "execution_count": 16,
      "metadata": {
        "colab": {
          "base_uri": "https://localhost:8080/",
          "height": 544
        },
        "id": "eQE53Xtr5Vqp",
        "outputId": "fcb1e900-ebcc-4691-9488-e21f444616fc"
      },
      "outputs": [
        {
          "data": {
            "image/png": "[encoded data removed]",
            "text/plain": [
              "<Figure size 1800x600 with 3 Axes>"
            ]
          },
          "metadata": {},
          "output_type": "display_data"
        }
      ],
      "source": [
        "plt.figure(figsize=(18, 6))\n",
        "plt.subplot(1,3,1)\n",
        "sns.boxplot(df[\"token_count\"])\n",
        "plt.title('Token Count Distribution by Label')\n",
        "plt.xlabel('Label')\n",
        "plt.ylabel('Number of Tokens')\n",
        "plt.xticks([0], ['intention'])\n",
        "\n",
        "plt.subplot(1,3,2)\n",
        "sns.boxplot(x='intention', y='token_count', data=df[df['intention'] == 0])\n",
        "plt.title('Token Count Distribution by Label')\n",
        "plt.xlabel('Label')\n",
        "plt.ylabel('Number of Tokens')\n",
        "plt.xticks([0], ['Non-Suicidal (0)'])\n",
        "\n",
        "plt.subplot(1,3,3)\n",
        "sns.boxplot(x='intention', y='token_count', data=df[df['intention'] == 1])\n",
        "plt.title('Token Count Distribution by Label')\n",
        "plt.xlabel('Label')\n",
        "plt.ylabel('Number of Tokens')\n",
        "plt.xticks([0], ['Suicidal (1)'])\n",
        "plt.show()"
      ]
    },
    {
      "cell_type": "code",
      "execution_count": 17,
      "metadata": {
        "colab": {
          "base_uri": "https://localhost:8080/"
        },
        "id": "GRCi-U0krzmM",
        "outputId": "af59f020-1469-4347-8fdc-f3b44af459e1"
      },
      "outputs": [
        {
          "data": {
            "text/plain": [
              "count    9119.000000\n",
              "mean       38.054063\n",
              "std        73.056092\n",
              "min         0.000000\n",
              "25%         6.000000\n",
              "50%        12.000000\n",
              "75%        38.000000\n",
              "max      2179.000000\n",
              "Name: token_count, dtype: float64"
            ]
          },
          "execution_count": 17,
          "metadata": {},
          "output_type": "execute_result"
        }
      ],
      "source": [
        "df['token_count'].describe()"
      ]
    },
    {
      "cell_type": "code",
      "execution_count": 18,
      "metadata": {
        "colab": {
          "base_uri": "https://localhost:8080/",
          "height": 143
        },
        "id": "NXalylbB58fw",
        "outputId": "a3a61e56-e87d-4417-f326-a8b1582ea0b5"
      },
      "outputs": [
        {
          "data": {
            "application/vnd.google.colaboratory.intrinsic+json": {
              "summary": "{\n  \"name\": \"df\",\n  \"rows\": 2,\n  \"fields\": [\n    {\n      \"column\": \"intention\",\n      \"properties\": {\n        \"dtype\": \"number\",\n        \"std\": 0,\n        \"min\": 0,\n        \"max\": 1,\n        \"num_unique_values\": 2,\n        \"samples\": [\n          1,\n          0\n        ],\n        \"semantic_type\": \"\",\n        \"description\": \"\"\n      }\n    },\n    {\n      \"column\": \"count\",\n      \"properties\": {\n        \"dtype\": \"number\",\n        \"std\": 794.0809152724929,\n        \"min\": 3998.0,\n        \"max\": 5121.0,\n        \"num_unique_values\": 2,\n        \"samples\": [\n          3998.0,\n          5121.0\n        ],\n        \"semantic_type\": \"\",\n        \"description\": \"\"\n      }\n    },\n    {\n      \"column\": \"mean\",\n      \"properties\": {\n        \"dtype\": \"number\",\n        \"std\": 46.6536953820086,\n        \"min\": 9.127514157391134,\n        \"max\": 75.10580290145073,\n        \"num_unique_values\": 2,\n        \"samples\": [\n          75.10580290145073,\n          9.127514157391134\n        ],\n        \"semantic_type\": \"\",\n        \"description\": \"\"\n      }\n    },\n    {\n      \"column\": \"std\",\n      \"properties\": {\n        \"dtype\": \"number\",\n        \"std\": 64.91239594840924,\n        \"min\": 6.561067302764913,\n        \"max\": 98.36105801913762,\n        \"num_unique_values\": 2,\n        \"samples\": [\n          98.36105801913762,\n          6.561067302764913\n        ],\n        \"semantic_type\": \"\",\n        \"description\": \"\"\n      }\n    },\n    {\n      \"column\": \"min\",\n      \"properties\": {\n        \"dtype\": \"number\",\n        \"std\": 0.0,\n        \"min\": 0.0,\n        \"max\": 0.0,\n        \"num_unique_values\": 1,\n        \"samples\": [\n          0.0\n        ],\n        \"semantic_type\": \"\",\n        \"description\": \"\"\n      }\n    },\n    {\n      \"column\": \"25%\",\n      \"properties\": {\n        \"dtype\": \"number\",\n        \"std\": 11.313708498984761,\n        \"min\": 4.0,\n        \"max\": 20.0,\n        \"num_unique_values\": 2,\n        \"samples\": [\n          20.0\n        ],\n        \"semantic_type\": \"\",\n        \"description\": \"\"\n      }\n    },\n    {\n      \"column\": \"50%\",\n      \"properties\": {\n        \"dtype\": \"number\",\n        \"std\": 27.577164466275352,\n        \"min\": 8.0,\n        \"max\": 47.0,\n        \"num_unique_values\": 2,\n        \"samples\": [\n          47.0\n        ],\n        \"semantic_type\": \"\",\n        \"description\": \"\"\n      }\n    },\n    {\n      \"column\": \"75%\",\n      \"properties\": {\n        \"dtype\": \"number\",\n        \"std\": 60.10407640085654,\n        \"min\": 12.0,\n        \"max\": 97.0,\n        \"num_unique_values\": 2,\n        \"samples\": [\n          97.0\n        ],\n        \"semantic_type\": \"\",\n        \"description\": \"\"\n      }\n    },\n    {\n      \"column\": \"max\",\n      \"properties\": {\n        \"dtype\": \"number\",\n        \"std\": 1513.9156185203983,\n        \"min\": 38.0,\n        \"max\": 2179.0,\n        \"num_unique_values\": 2,\n        \"samples\": [\n          2179.0\n        ],\n        \"semantic_type\": \"\",\n        \"description\": \"\"\n      }\n    }\n  ]\n}",
              "type": "dataframe"
            },
            "text/html": [
              "\n",
              "  <div id=\"df-3a6b8850-18a1-410a-893b-f363dd81511f\" class=\"colab-df-container\">\n",
              "    <div>\n",
              "<style scoped>\n",
              "    .dataframe tbody tr th:only-of-type {\n",
              "        vertical-align: middle;\n",
              "    }\n",
              "\n",
              "    .dataframe tbody tr th {\n",
              "        vertical-align: top;\n",
              "    }\n",
              "\n",
              "    .dataframe thead th {\n",
              "        text-align: right;\n",
              "    }\n",
              "</style>\n",
              "<table border=\"1\" class=\"dataframe\">\n",
              "  <thead>\n",
              "    <tr style=\"text-align: right;\">\n",
              "      <th></th>\n",
              "      <th>count</th>\n",
              "      <th>mean</th>\n",
              "      <th>std</th>\n",
              "      <th>min</th>\n",
              "      <th>25%</th>\n",
              "      <th>50%</th>\n",
              "      <th>75%</th>\n",
              "      <th>max</th>\n",
              "    </tr>\n",
              "    <tr>\n",
              "      <th>intention</th>\n",
              "      <th></th>\n",
              "      <th></th>\n",
              "      <th></th>\n",
              "      <th></th>\n",
              "      <th></th>\n",
              "      <th></th>\n",
              "      <th></th>\n",
              "      <th></th>\n",
              "    </tr>\n",
              "  </thead>\n",
              "  <tbody>\n",
              "    <tr>\n",
              "      <th>0</th>\n",
              "      <td>5121.0</td>\n",
              "      <td>9.127514</td>\n",
              "      <td>6.561067</td>\n",
              "      <td>0.0</td>\n",
              "      <td>4.0</td>\n",
              "      <td>8.0</td>\n",
              "      <td>12.0</td>\n",
              "      <td>38.0</td>\n",
              "    </tr>\n",
              "    <tr>\n",
              "      <th>1</th>\n",
              "      <td>3998.0</td>\n",
              "      <td>75.105803</td>\n",
              "      <td>98.361058</td>\n",
              "      <td>0.0</td>\n",
              "      <td>20.0</td>\n",
              "      <td>47.0</td>\n",
              "      <td>97.0</td>\n",
              "      <td>2179.0</td>\n",
              "    </tr>\n",
              "  </tbody>\n",
              "</table>\n",
              "</div>\n",
              "    <div class=\"colab-df-buttons\">\n",
              "\n",
              "  <div class=\"colab-df-container\">\n",
              "    <button class=\"colab-df-convert\" onclick=\"convertToInteractive('df-3a6b8850-18a1-410a-893b-f363dd81511f')\"\n",
              "            title=\"Convert this dataframe to an interactive table.\"\n",
              "            style=\"display:none;\">\n",
              "\n",
              "  <svg xmlns=\"http://www.w3.org/2000/svg\" height=\"24px\" viewBox=\"0 -960 960 960\">\n",
              "    <path d=\"M120-120v-720h720v720H120Zm60-500h600v-160H180v160Zm220 220h160v-160H400v160Zm0 220h160v-160H400v160ZM180-400h160v-160H180v160Zm440 0h160v-160H620v160ZM180-180h160v-160H180v160Zm440 0h160v-160H620v160Z\"/>\n",
              "  </svg>\n",
              "    </button>\n",
              "\n",
              "  <style>\n",
              "    .colab-df-container {\n",
              "      display:flex;\n",
              "      gap: 12px;\n",
              "    }\n",
              "\n",
              "    .colab-df-convert {\n",
              "      background-color: #E8F0FE;\n",
              "      border: none;\n",
              "      border-radius: 50%;\n",
              "      cursor: pointer;\n",
              "      display: none;\n",
              "      fill: #1967D2;\n",
              "      height: 32px;\n",
              "      padding: 0 0 0 0;\n",
              "      width: 32px;\n",
              "    }\n",
              "\n",
              "    .colab-df-convert:hover {\n",
              "      background-color: #E2EBFA;\n",
              "      box-shadow: 0px 1px 2px rgba(60, 64, 67, 0.3), 0px 1px 3px 1px rgba(60, 64, 67, 0.15);\n",
              "      fill: #174EA6;\n",
              "    }\n",
              "\n",
              "    .colab-df-buttons div {\n",
              "      margin-bottom: 4px;\n",
              "    }\n",
              "\n",
              "    [theme=dark] .colab-df-convert {\n",
              "      background-color: #3B4455;\n",
              "      fill: #D2E3FC;\n",
              "    }\n",
              "\n",
              "    [theme=dark] .colab-df-convert:hover {\n",
              "      background-color: #434B5C;\n",
              "      box-shadow: 0px 1px 3px 1px rgba(0, 0, 0, 0.15);\n",
              "      filter: drop-shadow(0px 1px 2px rgba(0, 0, 0, 0.3));\n",
              "      fill: #FFFFFF;\n",
              "    }\n",
              "  </style>\n",
              "\n",
              "    <script>\n",
              "      const buttonEl =\n",
              "        document.querySelector('#df-3a6b8850-18a1-410a-893b-f363dd81511f button.colab-df-convert');\n",
              "      buttonEl.style.display =\n",
              "        google.colab.kernel.accessAllowed ? 'block' : 'none';\n",
              "\n",
              "      async function convertToInteractive(key) {\n",
              "        const element = document.querySelector('#df-3a6b8850-18a1-410a-893b-f363dd81511f');\n",
              "        const dataTable =\n",
              "          await google.colab.kernel.invokeFunction('convertToInteractive',\n",
              "                                                    [key], {});\n",
              "        if (!dataTable) return;\n",
              "\n",
              "        const docLinkHtml = 'Like what you see? Visit the ' +\n",
              "          '<a target=\"_blank\" href=https://colab.research.google.com/notebooks/data_table.ipynb>data table notebook</a>'\n",
              "          + ' to learn more about interactive tables.';\n",
              "        element.innerHTML = '';\n",
              "        dataTable['output_type'] = 'display_data';\n",
              "        await google.colab.output.renderOutput(dataTable, element);\n",
              "        const docLink = document.createElement('div');\n",
              "        docLink.innerHTML = docLinkHtml;\n",
              "        element.appendChild(docLink);\n",
              "      }\n",
              "    </script>\n",
              "  </div>\n",
              "\n",
              "\n",
              "<div id=\"df-d74e20b2-89ab-4cad-ad3d-096fb57c4094\">\n",
              "  <button class=\"colab-df-quickchart\" onclick=\"quickchart('df-d74e20b2-89ab-4cad-ad3d-096fb57c4094')\"\n",
              "            title=\"Suggest charts\"\n",
              "            style=\"display:none;\">\n",
              "\n",
              "<svg xmlns=\"http://www.w3.org/2000/svg\" height=\"24px\"viewBox=\"0 0 24 24\"\n",
              "     width=\"24px\">\n",
              "    <g>\n",
              "        <path d=\"M19 3H5c-1.1 0-2 .9-2 2v14c0 1.1.9 2 2 2h14c1.1 0 2-.9 2-2V5c0-1.1-.9-2-2-2zM9 17H7v-7h2v7zm4 0h-2V7h2v10zm4 0h-2v-4h2v4z\"/>\n",
              "    </g>\n",
              "</svg>\n",
              "  </button>\n",
              "\n",
              "<style>\n",
              "  .colab-df-quickchart {\n",
              "      --bg-color: #E8F0FE;\n",
              "      --fill-color: #1967D2;\n",
              "      --hover-bg-color: #E2EBFA;\n",
              "      --hover-fill-color: #174EA6;\n",
              "      --disabled-fill-color: #AAA;\n",
              "      --disabled-bg-color: #DDD;\n",
              "  }\n",
              "\n",
              "  [theme=dark] .colab-df-quickchart {\n",
              "      --bg-color: #3B4455;\n",
              "      --fill-color: #D2E3FC;\n",
              "      --hover-bg-color: #434B5C;\n",
              "      --hover-fill-color: #FFFFFF;\n",
              "      --disabled-bg-color: #3B4455;\n",
              "      --disabled-fill-color: #666;\n",
              "  }\n",
              "\n",
              "  .colab-df-quickchart {\n",
              "    background-color: var(--bg-color);\n",
              "    border: none;\n",
              "    border-radius: 50%;\n",
              "    cursor: pointer;\n",
              "    display: none;\n",
              "    fill: var(--fill-color);\n",
              "    height: 32px;\n",
              "    padding: 0;\n",
              "    width: 32px;\n",
              "  }\n",
              "\n",
              "  .colab-df-quickchart:hover {\n",
              "    background-color: var(--hover-bg-color);\n",
              "    box-shadow: 0 1px 2px rgba(60, 64, 67, 0.3), 0 1px 3px 1px rgba(60, 64, 67, 0.15);\n",
              "    fill: var(--button-hover-fill-color);\n",
              "  }\n",
              "\n",
              "  .colab-df-quickchart-complete:disabled,\n",
              "  .colab-df-quickchart-complete:disabled:hover {\n",
              "    background-color: var(--disabled-bg-color);\n",
              "    fill: var(--disabled-fill-color);\n",
              "    box-shadow: none;\n",
              "  }\n",
              "\n",
              "  .colab-df-spinner {\n",
              "    border: 2px solid var(--fill-color);\n",
              "    border-color: transparent;\n",
              "    border-bottom-color: var(--fill-color);\n",
              "    animation:\n",
              "      spin 1s steps(1) infinite;\n",
              "  }\n",
              "\n",
              "  @keyframes spin {\n",
              "    0% {\n",
              "      border-color: transparent;\n",
              "      border-bottom-color: var(--fill-color);\n",
              "      border-left-color: var(--fill-color);\n",
              "    }\n",
              "    20% {\n",
              "      border-color: transparent;\n",
              "      border-left-color: var(--fill-color);\n",
              "      border-top-color: var(--fill-color);\n",
              "    }\n",
              "    30% {\n",
              "      border-color: transparent;\n",
              "      border-left-color: var(--fill-color);\n",
              "      border-top-color: var(--fill-color);\n",
              "      border-right-color: var(--fill-color);\n",
              "    }\n",
              "    40% {\n",
              "      border-color: transparent;\n",
              "      border-right-color: var(--fill-color);\n",
              "      border-top-color: var(--fill-color);\n",
              "    }\n",
              "    60% {\n",
              "      border-color: transparent;\n",
              "      border-right-color: var(--fill-color);\n",
              "    }\n",
              "    80% {\n",
              "      border-color: transparent;\n",
              "      border-right-color: var(--fill-color);\n",
              "      border-bottom-color: var(--fill-color);\n",
              "    }\n",
              "    90% {\n",
              "      border-color: transparent;\n",
              "      border-bottom-color: var(--fill-color);\n",
              "    }\n",
              "  }\n",
              "</style>\n",
              "\n",
              "  <script>\n",
              "    async function quickchart(key) {\n",
              "      const quickchartButtonEl =\n",
              "        document.querySelector('#' + key + ' button');\n",
              "      quickchartButtonEl.disabled = true;  // To prevent multiple clicks.\n",
              "      quickchartButtonEl.classList.add('colab-df-spinner');\n",
              "      try {\n",
              "        const charts = await google.colab.kernel.invokeFunction(\n",
              "            'suggestCharts', [key], {});\n",
              "      } catch (error) {\n",
              "        console.error('Error during call to suggestCharts:', error);\n",
              "      }\n",
              "      quickchartButtonEl.classList.remove('colab-df-spinner');\n",
              "      quickchartButtonEl.classList.add('colab-df-quickchart-complete');\n",
              "    }\n",
              "    (() => {\n",
              "      let quickchartButtonEl =\n",
              "        document.querySelector('#df-d74e20b2-89ab-4cad-ad3d-096fb57c4094 button');\n",
              "      quickchartButtonEl.style.display =\n",
              "        google.colab.kernel.accessAllowed ? 'block' : 'none';\n",
              "    })();\n",
              "  </script>\n",
              "</div>\n",
              "    </div>\n",
              "  </div>\n"
            ],
            "text/plain": [
              "            count       mean        std  min   25%   50%   75%     max\n",
              "intention                                                             \n",
              "0          5121.0   9.127514   6.561067  0.0   4.0   8.0  12.0    38.0\n",
              "1          3998.0  75.105803  98.361058  0.0  20.0  47.0  97.0  2179.0"
            ]
          },
          "execution_count": 18,
          "metadata": {},
          "output_type": "execute_result"
        }
      ],
      "source": [
        "df.groupby('intention')['token_count'].describe()"
      ]
    },
    {
      "cell_type": "markdown",
      "metadata": {
        "id": "hIlvf1qAqORY"
      },
      "source": [
        "<a id='questions0'></a>\n",
        "\n",
        "<h1 style = \"color:red;font-size:30px\" dir = \"ltr\"> <b>\n",
        "    Questions\n",
        "</b> </h1>"
      ]
    },
    {
      "cell_type": "markdown",
      "metadata": {
        "id": "tBtPk4tuqnb8"
      },
      "source": [
        "<h1 style = \"color:green;font-size:20px\" dir = \"ltr\"> <b>\n",
        "    Briefly explain the advantages and disadvantages of converting the text to lowercase format and tell why we do this in the processing?\n",
        "</b> </h1>\n",
        "\n",
        "- **Advantages**:\n",
        "\n",
        "  - **Case-insensitivity**: Many languages have different word meanings depending on capitalization (e.g., \"Help\" vs. \"help\"). Lowercase conversion ensures the model focuses on the word itself, not its case variation.\n",
        "\n",
        "  - **Reduces vocabulary size**: The model only needs to learn word representations for lowercase characters, reducing the number of unique words it needs to handle.\n",
        "\n",
        "  - **Simpler processing**: Many Natural Language Processing (NLP) techniques work better with lowercase text, making the overall process more efficient.\n",
        "\n",
        "- **Disadvantages**:\n",
        "\n",
        "  - **Loss of information**: In some cases, capitalization can be semantically important. For example, acronyms (like \"USA\") or proper nouns (like \"Paris\") might lose meaning when converted.\n",
        "\n",
        "Despite the potential loss of information, the advantages of case-insensitivity, reduced vocabulary size, and simpler processing often outweigh the disadvantages. In sentiment analysis tasks like detecting suicidal thoughts, the meaning conveyed by the message is generally more important than capitalization specifics.\n",
        "\n",
        "Here, focusing on the overall sentiment expressed in the tweet is crucial. By converting everything to lowercase, we can ensure the model is primarily looking for keywords and patterns that indicate suicidal intent, regardless of how those words are capitalized in the original tweet."
      ]
    },
    {
      "cell_type": "markdown",
      "metadata": {
        "id": "Ss0B-6vyCbkU"
      },
      "source": [
        "<h1 style = \"color:green;font-size:20px\" dir = \"ltr\"> <b>\n",
        "    Research the elimination of numbers in the above processes and name the advantages and disadvantages of this process.\n",
        "</b> </h1>\n",
        "\n",
        "- **Advantages**:\n",
        "\n",
        "  - **Reduced vocabulary size**: Numbers can significantly increase the vocabulary size, especially for social media data where dates, prices, or other numerical mentions are frequent. Removing them reduces the number of unique tokens the model needs to learn representations for.\n",
        "\n",
        "  - **Focus on sentiment**: In sentiment analysis for detecting suicidal ideation, the specific numbers mentioned might not be as relevant as the overall sentiment conveyed. Numbers themselves don't carry emotional weight. For example, \"feeling so down at 3 am\" might be more indicative of negativity than \"feeling down on a Tuesday.\"\n",
        "\n",
        "  - **Normalization**: Numbers can have different formats and scales depending on the context. Removing them eliminates the need for complex normalization techniques to account for varying numerical formats.\n",
        "\n",
        "- **Disadvantages**:\n",
        "\n",
        "  - **Loss of information**: In some cases, numbers can be crucial for understanding the context. For example, \"I have taken 10 pills\" carries a much stronger suicidal intent than \"I have taken some pills.\" Removing numbers entirely might lead to misinterpretations.\n",
        "\n",
        "- **Dates and times**: Dates and times can be relevant for identifying patterns of suicidal ideation."
      ]
    },
    {
      "cell_type": "markdown",
      "metadata": {
        "id": "wBg10WypEwqn"
      },
      "source": [
        "<h1 style = \"color:green;font-size:20px\" dir = \"ltr\"> <b>\n",
        "    We have the ability to use hashtags in the Twitter social network. Explain why we did not remove these expressions and what effect does keeping them have on the performance of the model?\n",
        "</b> </h1>\n",
        "\n",
        "- **Importance of Hashtags**:\n",
        "\n",
        "  - **Thematic Indicators**: Hashtags often function as thematic indicators, condensing the message's core concept. Hashtags like #SuicidePrevention or #FeelingHopeless can directly convey suicidal thoughts or emotional states relevant to the task.\n",
        "\n",
        "  - **Community and Support**: Hashtags can connect users to relevant communities or resources. For example, #MentalHealthMatters or #CrisisTextLine can indicate the user is seeking help or expressing struggles related to mental health.\n",
        "\n",
        "  - **Emerging Trends**: Hashtags can reveal emerging trends in suicidal ideation. Tracking specific hashtags like #BlueMonday or #FinalsWeek can help identify periods with potentially higher risks.\n",
        "\n",
        "- **Impact on Model Performance**:\n",
        "\n",
        "  - **Improved Accuracy**: Keeping hashtags can provide the model with valuable keywords directly related to suicidal intent. This can lead to improved accuracy in identifying suicidal tweets.\n",
        "\n",
        "  - **Contextual Understanding**: Hashtags can offer context to the overall sentiment. For instance, a tweet saying \"life is pointless #sarcasm\" might have a different meaning than \"life is pointless #feels\" due to the contrasting hashtags."
      ]
    },
    {
      "cell_type": "markdown",
      "metadata": {
        "id": "_cE_O6sDHET2"
      },
      "source": [
        "<a id='part1'></a>\n",
        "\n",
        "<h1 style = \"color:red;text-align: center;font-size:50px\"> <b>\n",
        "    Part I: Feature Vectors\n",
        "</b> </h1>"
      ]
    },
    {
      "cell_type": "markdown",
      "metadata": {
        "id": "8RP-wjqBbU49"
      },
      "source": [
        "![word2vec](https://semaphoreci.com/wp-content/uploads/2023/06/word2vec.jpg)"
      ]
    },
    {
      "cell_type": "code",
      "execution_count": 19,
      "metadata": {
        "colab": {
          "base_uri": "https://localhost:8080/"
        },
        "id": "qvrGA1UWZeJd",
        "outputId": "0ee4367f-2336-4485-df06-5de06c4debc1"
      },
      "outputs": [
        {
          "name": "stdout",
          "output_type": "stream",
          "text": [
            "fasttext-wiki-news-subwords-300\n",
            "conceptnet-numberbatch-17-06-300\n",
            "word2vec-ruscorpora-300\n",
            "word2vec-google-news-300\n",
            "glove-wiki-gigaword-50\n",
            "glove-wiki-gigaword-100\n",
            "glove-wiki-gigaword-200\n",
            "glove-wiki-gigaword-300\n",
            "glove-twitter-25\n",
            "glove-twitter-50\n",
            "glove-twitter-100\n",
            "glove-twitter-200\n",
            "__testing_word2vec-matrix-synopsis\n",
            "Downloading Word2Vec model...\n",
            "[==================================================] 100.0% 1662.8/1662.8MB downloaded\n",
            "Word2vec model is downloaded.\n"
          ]
        }
      ],
      "source": [
        "# print available word2vec models\n",
        "print(\"\\n\".join(api.info()['models'].keys()))\n",
        "\n",
        "W2V_PATH = None # Path to W2V if downloaded\n",
        "if W2V_PATH is not None and os.path.exists(W2V_PATH):\n",
        "    print(\"Loading Word2Vec model...\")\n",
        "    w2v_model = gensim.models.KeyedVectors.load(W2V_PATH, mmap='r')\n",
        "    print(\"Word2Vec model is loaded.\")\n",
        "else:\n",
        "    print(\"Downloading Word2Vec model...\")\n",
        "    w2v_model = api.load(\"word2vec-google-news-300\")\n",
        "    print(\"Word2vec model is downloaded.\")\n",
        "    if W2V_PATH is not None:\n",
        "        print(\"\\nSaving Word2Vec model...\")\n",
        "        w2v_model.save(W2V_PATH)\n",
        "        print(\"Word2Vec model is saved.\")\n",
        "\n",
        "EMBEDDING_VECTOR_DIM = w2v_model.vector_size"
      ]
    },
    {
      "cell_type": "code",
      "execution_count": 20,
      "metadata": {
        "id": "QWMkeWxkZ3Nw"
      },
      "outputs": [],
      "source": [
        "class Twitter(Dataset):\n",
        "    def __init__(self, dataframe: pd.DataFrame, w2v_model: gensim.models.KeyedVectors, sequence_len: int):\n",
        "        self.dataframe = dataframe\n",
        "        self.w2v_model = w2v_model\n",
        "        self.max_sequence_len = sequence_len\n",
        "        self.vector_size = w2v_model.vector_size\n",
        "\n",
        "        self.df_token_col = \"tokens\"\n",
        "\n",
        "        self._proc_dataset()\n",
        "\n",
        "        self.len = len(self.dataframe)\n",
        "\n",
        "    def __len__(self):\n",
        "        return self.len\n",
        "\n",
        "    def __getitem__(self, idx):\n",
        "        return self.dataframe.iloc[idx][\"vector\"], self.dataframe.iloc[idx][\"intention\"]\n",
        "\n",
        "    def get_vector_size(self):\n",
        "        return self.vector_size\n",
        "\n",
        "    def _proc_dataset(self):\n",
        "        # Preprocess and return tokens list\n",
        "        self.dataframe[self.df_token_col] = self.dataframe[\"tweet\"].map(preprocess_data)\n",
        "\n",
        "        # delete samples with empty tokens\n",
        "        lwz = len(self.dataframe)\n",
        "        self.dataframe = self.dataframe[self.dataframe[self.df_token_col].map(len) > 0]\n",
        "        self.dataframe.reset_index(drop=True, inplace=True)\n",
        "        print(f\"Deleted 0-Len Samples: {lwz - len(self.dataframe)}\")\n",
        "\n",
        "        # Add padding\n",
        "        self.dataframe[self.df_token_col] = self.dataframe[self.df_token_col].map(self._pad)\n",
        "\n",
        "        # Get embedding's vectors\n",
        "        self.dataframe[\"vector\"] = self.dataframe[self.df_token_col].map(self._get_word_vectors)\n",
        "\n",
        "    def _get_word_vectors(self, tokens: list) -> torch.tensor:\n",
        "        vectors = []\n",
        "        for token in tokens:\n",
        "            if token in self.w2v_model:\n",
        "                vectors.append(self.w2v_model[token])\n",
        "            else:\n",
        "                vectors.append(np.zeros(self.vector_size))\n",
        "        return torch.tensor(vectors, dtype=torch.float32)\n",
        "\n",
        "    def _pad(self, tokens: list):\n",
        "        if len(tokens) < self.max_sequence_len:\n",
        "            tokens.extend([''] * (self.max_sequence_len - len(tokens)))\n",
        "        return tokens[:self.max_sequence_len]\n",
        "\n",
        "    def seq_report(self):\n",
        "        length_all = self.dataframe[self.df_token_col].map(len).tolist()\n",
        "        max_length = np.max(length_all)\n",
        "        print(f\"Sequence Length Report\")\n",
        "        print(f\":::::MAX  LENGTH:::[{max_length:^5}]\")\n",
        "        print(f\":::::MIN  LENGTH:::[{np.min(length_all):^5}]\")\n",
        "        print(f\":::::MEAN LENGTH:::[{np.mean(length_all):^5}]\")\n",
        "\n",
        "        all_tokens = set()\n",
        "        for token_set in self.dataframe[self.df_token_col].tolist():\n",
        "            all_tokens = all_tokens.union(set(token_set))\n",
        "        unique_tokens_count = len(all_tokens)\n",
        "        valid_tokens = sum(1 if token in self.w2v_model else 0 for token in all_tokens)\n",
        "        print(\"Sequence Tokenization Report\")\n",
        "        print(f\":::::All Unique Tokens:::[{unique_tokens_count:^6}]\")\n",
        "        print(f\":::::All Valid Tokens:::[{valid_tokens:^6}]\")\n",
        "        print(f\":::::Valid Tokens:::[{round(100*valid_tokens/unique_tokens_count, 2):^5}%]\")\n",
        "\n",
        "    @staticmethod\n",
        "    def _to_tensor(tokens: list):\n",
        "        return torch.tensor(tokens, dtype=torch.float32)"
      ]
    },
    {
      "cell_type": "code",
      "execution_count": 21,
      "metadata": {
        "colab": {
          "base_uri": "https://localhost:8080/"
        },
        "id": "bdniguZ4b5lz",
        "outputId": "ec2828dd-72fb-449a-c5c2-619f2df1dce4"
      },
      "outputs": [
        {
          "name": "stdout",
          "output_type": "stream",
          "text": [
            "Deleted 0-Len Samples: 29\n",
            "Sequence Length Report\n",
            ":::::MAX  LENGTH:::[ 64  ]\n",
            ":::::MIN  LENGTH:::[ 64  ]\n",
            ":::::MEAN LENGTH:::[64.0 ]\n",
            "Sequence Tokenization Report\n",
            ":::::All Unique Tokens:::[15463 ]\n",
            ":::::All Valid Tokens:::[10304 ]\n",
            ":::::Valid Tokens:::[66.64%]\n"
          ]
        }
      ],
      "source": [
        "warnings.filterwarnings(\"ignore\")\n",
        "dataset = Twitter(df, w2v_model, SEQUENCE_LEN)\n",
        "dataset.seq_report()"
      ]
    },
    {
      "cell_type": "markdown",
      "metadata": {
        "id": "_OtEzGPWJDjA"
      },
      "source": [
        "<a id='questions1'></a>\n",
        "\n",
        "<h1 style = \"color:red;font-size:30px\" dir = \"ltr\"> <b>\n",
        "    Questions\n",
        "</b> </h1>"
      ]
    },
    {
      "cell_type": "markdown",
      "metadata": {
        "id": "OgVZNu6IJFVb"
      },
      "source": [
        "<h1 style = \"color:green;font-size:20px\" dir = \"ltr\"> <b>\n",
        "    Explain what are the methods of dealing with non-existent words in the mentioned dictionary and name the advantages and disadvantages of each.\n",
        "</b> </h1>\n",
        "\n",
        "some methods for dealing with non-existent words (out-of-vocabulary words, OOV) in the Word2Vec dictionary:\n",
        "\n",
        "1. **gnoring OOV words**:\n",
        "\n",
        "    - **Advantages**: Simple to implement, reduces processing time.\n",
        "  \n",
        "    - **Disadvantages**: May lead to information loss, especially if OOV words are frequent or carry significant meaning. The model would completely disregard them.\n",
        "\n",
        "2. Replacing OOV words with a special token (e.g., \"UNK\" for unknown):\n",
        "\n",
        "    - **Advantages**: Prevents information loss entirely. The model acknowledges the presence of an unknown word.\n",
        "  \n",
        "    - **Disadvantages**: The special token might not capture any semantic meaning, potentially reducing the model's ability to understand the sentence.\n",
        "\n",
        "3. Averaging word embeddings of neighboring words:\n",
        "\n",
        "    - **Advantages**: Captures some context by considering surrounding words.\n",
        "  \n",
        "    - **Disadvantages**: Assumes some similarity between neighboring words, which might not always be true. Can be computationally expensive for long sentences.\n",
        "\n",
        "4. Random embedding:\n",
        "\n",
        "    - **Advantages**: Provides some representation for the OOV word, preventing the model from completely ignoring it.\n",
        "  \n",
        "    - **Disadvantages**: Random embedding might not be semantically meaningful and could introduce noise into the model.\n",
        "\n",
        "5. Subword information (if available in the Word2Vec model):\n",
        "\n",
        "    - **Advantages**: Leverages subword information (prefixes, suffixes) to create a more meaningful representation for the OOV word, especially for morphologically rich languages.\n",
        "  \n",
        "    - **Disadvantages**: Requires a Word2Vec model trained specifically with subword information, which might not always be available."
      ]
    },
    {
      "cell_type": "markdown",
      "metadata": {
        "id": "g0uPPDONMdUC"
      },
      "source": [
        "<a id='part2'></a>\n",
        "\n",
        "<h1 style = \"color:red;text-align: center;font-size:50px\"> <b>\n",
        "    Part II: Classification using a CNN network\n",
        "</b> </h1>"
      ]
    },
    {
      "cell_type": "markdown",
      "metadata": {
        "id": "UNoh9JAlagPb"
      },
      "source": [
        "![CNN](https://editor.analyticsvidhya.com/uploads/183560_qcMBDPuKpDvICcdd.png)\n"
      ]
    },
    {
      "cell_type": "markdown",
      "metadata": {
        "id": "-v9MM_-Sa75o"
      },
      "source": [
        "![CNN](https://editor.analyticsvidhya.com/uploads/556091_ciDgQEjViWLnCbmX-EeSrA.gif)\n"
      ]
    },
    {
      "cell_type": "code",
      "execution_count": 22,
      "metadata": {
        "colab": {
          "base_uri": "https://localhost:8080/"
        },
        "id": "-w-ZTUtniJda",
        "outputId": "2efc0063-2b2c-4bac-ee46-3cbc03db5b34"
      },
      "outputs": [
        {
          "name": "stdout",
          "output_type": "stream",
          "text": [
            "Deleted 0-Len Samples: 21\n",
            "Deleted 0-Len Samples: 8\n",
            "Train dataset length: 7274\n",
            "Valid dataset length: 1816\n"
          ]
        }
      ],
      "source": [
        "# Split the dataset into train and test sets\n",
        "warnings.filterwarnings(\"ignore\")\n",
        "train_df, valid_df = train_test_split(df, test_size=0.2, random_state=42)\n",
        "\n",
        "# Create Twitter dataset for training and validation\n",
        "train_dataset = Twitter(train_df, w2v_model, SEQUENCE_LEN)\n",
        "valid_dataset = Twitter(valid_df, w2v_model, SEQUENCE_LEN)\n",
        "\n",
        "print(f\"Train dataset length: {len(train_dataset)}\")\n",
        "print(f\"Valid dataset length: {len(valid_dataset)}\")"
      ]
    },
    {
      "cell_type": "code",
      "execution_count": 23,
      "metadata": {
        "id": "5HeMSBwRz5ca"
      },
      "outputs": [],
      "source": [
        "@torch.no_grad()\n",
        "def model_eval(model, loader, loss_function, device='cpu'):\n",
        "    \"\"\"Returns test_loss, test_acc\"\"\"\n",
        "    test_loss = 0.0\n",
        "    test_acc = 0.0\n",
        "    total = 0\n",
        "    correct = 0\n",
        "\n",
        "    model = model.to(device)\n",
        "    itr = tqdm(loader, total=len(loader), leave=False)\n",
        "\n",
        "    for inputs, labels in itr:\n",
        "        inputs, labels = inputs.to(device), labels.to(device)\n",
        "        outputs = model(inputs)\n",
        "        loss = loss_function(outputs, labels)\n",
        "        test_loss += loss.item()\n",
        "        _, predicted = torch.max(outputs.data, 1)\n",
        "        total += labels.size(0)\n",
        "        correct += (predicted == labels).sum().item()\n",
        "\n",
        "    test_acc = 100 * correct / total\n",
        "    return test_loss / len(loader), test_acc"
      ]
    },
    {
      "cell_type": "code",
      "execution_count": 24,
      "metadata": {
        "id": "YjZBYMz21NIm"
      },
      "outputs": [],
      "source": [
        "def train_model(\n",
        "        model,\n",
        "        batch_size,\n",
        "        loss_function,\n",
        "        optimizer,\n",
        "        epochs,\n",
        "        train_set,\n",
        "        valid_set,\n",
        "        device='cpu',\n",
        "):\n",
        "\n",
        "    train_loader = DataLoader(train_set, batch_size=batch_size, shuffle=True)\n",
        "    valid_loader = DataLoader(valid_set, batch_size=batch_size, shuffle=False)\n",
        "\n",
        "    model.to(device)\n",
        "\n",
        "    train_losses = []\n",
        "    train_accs = []\n",
        "\n",
        "    valid_losses = []\n",
        "    valid_accs = []\n",
        "\n",
        "    for epoch in range(epochs):\n",
        "        model.train()\n",
        "        epoch_loss = 0\n",
        "        epoch_acc = 0\n",
        "        total = 0\n",
        "        correct = 0\n",
        "        itr = tqdm(train_loader, total=len(train_loader), leave=False)\n",
        "\n",
        "        for inputs, labels in itr:\n",
        "            inputs, labels = inputs.to(device), labels.to(device)\n",
        "            optimizer.zero_grad()\n",
        "            outputs = model(inputs)\n",
        "            loss = loss_function(outputs, labels)\n",
        "            loss.backward()\n",
        "            optimizer.step()\n",
        "\n",
        "            epoch_loss += loss.item()\n",
        "            _, predicted = torch.max(outputs.data, 1)\n",
        "            total += labels.size(0)\n",
        "            correct += (predicted == labels).sum().item()\n",
        "\n",
        "        epoch_acc = 100 * correct / total\n",
        "        train_losses.append(epoch_loss / len(train_loader))\n",
        "        train_accs.append(epoch_acc)\n",
        "\n",
        "        model.eval()\n",
        "        valid_loss, valid_acc = model_eval(\n",
        "            model=model,\n",
        "            loader=valid_loader,\n",
        "            loss_function=loss_function,\n",
        "            device=device\n",
        "        )\n",
        "\n",
        "        valid_losses.append(valid_loss)\n",
        "        valid_accs.append(valid_acc)\n",
        "\n",
        "        print(f'Epoch {epoch+1}/{epochs}, Train Loss: {train_losses[-1]:.4f}, Train Acc: {train_accs[-1]:.4f}, Valid Loss: {valid_losses[-1]:.4f}, Valid Acc: {valid_accs[-1]:.4f}')\n",
        "\n",
        "    history = {\n",
        "      \"train_loss\": train_losses,\n",
        "      \"train_acc\": train_accs,\n",
        "      \"valid_loss\": valid_losses,\n",
        "      \"valid_acc\": valid_accs,\n",
        "    }\n",
        "    return history"
      ]
    },
    {
      "cell_type": "code",
      "execution_count": 25,
      "metadata": {
        "id": "vbNUPGkt1lrd"
      },
      "outputs": [],
      "source": [
        "def trend_plot_helper(pobj):\n",
        "    plt.figure(figsize=(5*len(pobj), 5))\n",
        "    for idx, (titler, plots) in enumerate(pobj.items(), start=1):\n",
        "        plt.subplot(1, len(pobj), idx)\n",
        "        for label, trend in plots:\n",
        "            plt.plot(range(1, len(trend)+1), trend, label=label)\n",
        "        yt, xt = titler.split(' - ')\n",
        "        plt.xlabel(xt)\n",
        "        plt.ylabel(yt)\n",
        "        plt.legend()"
      ]
    },
    {
      "cell_type": "code",
      "execution_count": 26,
      "metadata": {
        "id": "oBF6X9Je1u9z"
      },
      "outputs": [],
      "source": [
        "@torch.no_grad()\n",
        "def generate_confusion_matrix(model, dataset, device='cpu'):\n",
        "    model = model.to(device)\n",
        "    loader = DataLoader(dataset, batch_size=32, shuffle=False)\n",
        "    itr = tqdm(loader, leave=False, desc=\"Generate data\")\n",
        "\n",
        "    all_labels = []\n",
        "    all_predictions = []\n",
        "\n",
        "    for inputs, labels in itr:\n",
        "        inputs, labels = inputs.to(device), labels.to(device)\n",
        "        outputs = model(inputs)\n",
        "        _, predicted = torch.max(outputs.data, 1)\n",
        "        all_labels.extend(labels.cpu().numpy())\n",
        "        all_predictions.extend(predicted.cpu().numpy())\n",
        "\n",
        "    cm = metrics.confusion_matrix(y_true=all_labels, y_pred=all_predictions)\n",
        "\n",
        "    plt.figure(figsize=(10,10))\n",
        "    sns.heatmap(cm, cmap='Blues', annot=True, cbar=False, fmt=\".0f\",)\n",
        "    plt.xlabel('Predicted Label', labelpad=20)\n",
        "    plt.ylabel('True Label', labelpad=20)\n",
        "    plt.title('Confusion Matrix', fontsize=30)\n",
        "\n",
        "    recall = metrics.recall_score(y_true=all_labels, y_pred=all_predictions, average='macro')\n",
        "    f1 = metrics.f1_score(y_true=all_labels, y_pred=all_predictions, average='macro')\n",
        "    precision = metrics.precision_score(y_true=all_labels, y_pred=all_predictions, average='macro')\n",
        "    report = metrics.classification_report(y_true=all_labels, y_pred=all_predictions)\n",
        "\n",
        "    return {'recall': recall, 'f1': f1, 'precision': precision, 'report': report}\n"
      ]
    },
    {
      "cell_type": "code",
      "execution_count": 38,
      "metadata": {
        "id": "kk8BbA3VzjNJ"
      },
      "outputs": [],
      "source": [
        "class CNN(nn.Module):\n",
        "    def __init__(self, embedding_dim, num_filters, sequence_len, kernel_size):\n",
        "        super(CNN, self).__init__()\n",
        "        self.embedding_dim = embedding_dim\n",
        "        self.num_filters = num_filters\n",
        "        self.sequence_len = sequence_len\n",
        "        self.kernel_size = kernel_size\n",
        "\n",
        "        self.conv1 = nn.Conv1d(in_channels=sequence_len, out_channels=num_filters, kernel_size= self.kernel_size, stride= 1)\n",
        "        self.conv2 = nn.Conv1d(in_channels=num_filters, out_channels=128, kernel_size= self.kernel_size, stride= 1)\n",
        "        self.max_pool = nn.MaxPool1d(kernel_size = self.kernel_size)\n",
        "        self.relu = nn.ReLU()\n",
        "        self.flatten = nn.Flatten()\n",
        "        self.flatten_dim = self._get_flatten_dim()\n",
        "        self.fc1 = nn.Linear(self.flatten_dim, 128)\n",
        "        self.fc2 = nn.Linear(128, 2)\n",
        "\n",
        "    def _get_flatten_dim(self):\n",
        "        input = torch.zeros(self.num_filters, self.sequence_len, self.embedding_dim)\n",
        "        output = self.conv1(input)\n",
        "        output = self.max_pool(output)\n",
        "        output = self.conv2(output)\n",
        "        output = self.max_pool(output)\n",
        "        output = self.flatten(output)\n",
        "        return output.size()[1]\n",
        "\n",
        "    def forward(self, x):\n",
        "        x = self.conv1(x)\n",
        "        x = self.relu(x)\n",
        "        x = self.max_pool(x)\n",
        "        x = self.conv2(x)\n",
        "        x = self.relu(x)\n",
        "        x = self.max_pool(x)\n",
        "        x = self.flatten(x)\n",
        "        x = self.fc1(x)\n",
        "        x = self.relu(x)\n",
        "        x = self.fc2(x)\n",
        "        return x"
      ]
    },
    {
      "cell_type": "code",
      "execution_count": 39,
      "metadata": {
        "colab": {
          "base_uri": "https://localhost:8080/",
          "height": 1000
        },
        "id": "dsyGkjUP2DUL",
        "outputId": "7da4689e-e858-4bee-f25e-01db5ed72b51"
      },
      "outputs": [
        {
          "name": "stderr",
          "output_type": "stream",
          "text": []
        },
        {
          "name": "stdout",
          "output_type": "stream",
          "text": [
            "Epoch 1/25, Train Loss: 0.4198, Train Acc: 82.2519, Valid Loss: 0.3502, Valid Acc: 85.1322\n"
          ]
        },
        {
          "name": "stderr",
          "output_type": "stream",
          "text": []
        },
        {
          "name": "stdout",
          "output_type": "stream",
          "text": [
            "Epoch 2/25, Train Loss: 0.3625, Train Acc: 84.6027, Valid Loss: 0.3464, Valid Acc: 85.5176\n"
          ]
        },
        {
          "name": "stderr",
          "output_type": "stream",
          "text": []
        },
        {
          "name": "stdout",
          "output_type": "stream",
          "text": [
            "Epoch 3/25, Train Loss: 0.3557, Train Acc: 84.7539, Valid Loss: 0.3392, Valid Acc: 85.9581\n"
          ]
        },
        {
          "name": "stderr",
          "output_type": "stream",
          "text": []
        },
        {
          "name": "stdout",
          "output_type": "stream",
          "text": [
            "Epoch 4/25, Train Loss: 0.3528, Train Acc: 85.0564, Valid Loss: 0.3400, Valid Acc: 86.1233\n"
          ]
        },
        {
          "name": "stderr",
          "output_type": "stream",
          "text": []
        },
        {
          "name": "stdout",
          "output_type": "stream",
          "text": [
            "Epoch 5/25, Train Loss: 0.3501, Train Acc: 84.8227, Valid Loss: 0.3393, Valid Acc: 86.2885\n"
          ]
        },
        {
          "name": "stderr",
          "output_type": "stream",
          "text": []
        },
        {
          "name": "stdout",
          "output_type": "stream",
          "text": [
            "Epoch 6/25, Train Loss: 0.3488, Train Acc: 85.3863, Valid Loss: 0.3369, Valid Acc: 86.5088\n"
          ]
        },
        {
          "name": "stderr",
          "output_type": "stream",
          "text": []
        },
        {
          "name": "stdout",
          "output_type": "stream",
          "text": [
            "Epoch 7/25, Train Loss: 0.3482, Train Acc: 85.0426, Valid Loss: 0.3469, Valid Acc: 85.4626\n"
          ]
        },
        {
          "name": "stderr",
          "output_type": "stream",
          "text": []
        },
        {
          "name": "stdout",
          "output_type": "stream",
          "text": [
            "Epoch 8/25, Train Loss: 0.3451, Train Acc: 85.3313, Valid Loss: 0.3529, Valid Acc: 84.3612\n"
          ]
        },
        {
          "name": "stderr",
          "output_type": "stream",
          "text": []
        },
        {
          "name": "stdout",
          "output_type": "stream",
          "text": [
            "Epoch 9/25, Train Loss: 0.3497, Train Acc: 85.0564, Valid Loss: 0.3399, Valid Acc: 85.7379\n"
          ]
        },
        {
          "name": "stderr",
          "output_type": "stream",
          "text": []
        },
        {
          "name": "stdout",
          "output_type": "stream",
          "text": [
            "Epoch 10/25, Train Loss: 0.3475, Train Acc: 85.2213, Valid Loss: 0.3622, Valid Acc: 84.9670\n"
          ]
        },
        {
          "name": "stderr",
          "output_type": "stream",
          "text": []
        },
        {
          "name": "stdout",
          "output_type": "stream",
          "text": [
            "Epoch 11/25, Train Loss: 0.3448, Train Acc: 85.1389, Valid Loss: 0.3312, Valid Acc: 86.7841\n"
          ]
        },
        {
          "name": "stderr",
          "output_type": "stream",
          "text": []
        },
        {
          "name": "stdout",
          "output_type": "stream",
          "text": [
            "Epoch 12/25, Train Loss: 0.3414, Train Acc: 85.5375, Valid Loss: 0.3519, Valid Acc: 85.3524\n"
          ]
        },
        {
          "name": "stderr",
          "output_type": "stream",
          "text": []
        },
        {
          "name": "stdout",
          "output_type": "stream",
          "text": [
            "Epoch 13/25, Train Loss: 0.3423, Train Acc: 85.6063, Valid Loss: 0.3375, Valid Acc: 85.9581\n"
          ]
        },
        {
          "name": "stderr",
          "output_type": "stream",
          "text": []
        },
        {
          "name": "stdout",
          "output_type": "stream",
          "text": [
            "Epoch 14/25, Train Loss: 0.3403, Train Acc: 85.7162, Valid Loss: 0.3275, Valid Acc: 86.6740\n"
          ]
        },
        {
          "name": "stderr",
          "output_type": "stream",
          "text": []
        },
        {
          "name": "stdout",
          "output_type": "stream",
          "text": [
            "Epoch 15/25, Train Loss: 0.3381, Train Acc: 85.8400, Valid Loss: 0.3274, Valid Acc: 86.6189\n"
          ]
        },
        {
          "name": "stderr",
          "output_type": "stream",
          "text": []
        },
        {
          "name": "stdout",
          "output_type": "stream",
          "text": [
            "Epoch 16/25, Train Loss: 0.3383, Train Acc: 85.8262, Valid Loss: 0.3284, Valid Acc: 86.6740\n"
          ]
        },
        {
          "name": "stderr",
          "output_type": "stream",
          "text": []
        },
        {
          "name": "stdout",
          "output_type": "stream",
          "text": [
            "Epoch 17/25, Train Loss: 0.3355, Train Acc: 86.0874, Valid Loss: 0.3295, Valid Acc: 86.4537\n"
          ]
        },
        {
          "name": "stderr",
          "output_type": "stream",
          "text": []
        },
        {
          "name": "stdout",
          "output_type": "stream",
          "text": [
            "Epoch 18/25, Train Loss: 0.3382, Train Acc: 85.5788, Valid Loss: 0.3225, Valid Acc: 87.0044\n"
          ]
        },
        {
          "name": "stderr",
          "output_type": "stream",
          "text": []
        },
        {
          "name": "stdout",
          "output_type": "stream",
          "text": [
            "Epoch 19/25, Train Loss: 0.3331, Train Acc: 86.1424, Valid Loss: 0.3418, Valid Acc: 85.3524\n"
          ]
        },
        {
          "name": "stderr",
          "output_type": "stream",
          "text": []
        },
        {
          "name": "stdout",
          "output_type": "stream",
          "text": [
            "Epoch 20/25, Train Loss: 0.3329, Train Acc: 86.1562, Valid Loss: 0.3231, Valid Acc: 87.2247\n"
          ]
        },
        {
          "name": "stderr",
          "output_type": "stream",
          "text": []
        },
        {
          "name": "stdout",
          "output_type": "stream",
          "text": [
            "Epoch 21/25, Train Loss: 0.3290, Train Acc: 86.1562, Valid Loss: 0.3349, Valid Acc: 86.0132\n"
          ]
        },
        {
          "name": "stderr",
          "output_type": "stream",
          "text": []
        },
        {
          "name": "stdout",
          "output_type": "stream",
          "text": [
            "Epoch 22/25, Train Loss: 0.3263, Train Acc: 86.3624, Valid Loss: 0.3211, Valid Acc: 86.8943\n"
          ]
        },
        {
          "name": "stderr",
          "output_type": "stream",
          "text": []
        },
        {
          "name": "stdout",
          "output_type": "stream",
          "text": [
            "Epoch 23/25, Train Loss: 0.3255, Train Acc: 86.5411, Valid Loss: 0.3155, Valid Acc: 87.3348\n"
          ]
        },
        {
          "name": "stderr",
          "output_type": "stream",
          "text": []
        },
        {
          "name": "stdout",
          "output_type": "stream",
          "text": [
            "Epoch 24/25, Train Loss: 0.3185, Train Acc: 86.6511, Valid Loss: 0.3257, Valid Acc: 86.1784\n"
          ]
        },
        {
          "name": "stderr",
          "output_type": "stream",
          "text": []
        },
        {
          "name": "stdout",
          "output_type": "stream",
          "text": [
            "Epoch 25/25, Train Loss: 0.3188, Train Acc: 86.5411, Valid Loss: 0.3191, Valid Acc: 86.5639\n"
          ]
        },
        {
          "name": "stderr",
          "output_type": "stream",
          "text": []
        },
        {
          "name": "stdout",
          "output_type": "stream",
          "text": [
            "Recall:    0.850\n",
            "F1:        0.858\n",
            "Precision: 0.895\n",
            "              precision    recall  f1-score   support\n",
            "\n",
            "           0       0.81      0.99      0.89      1011\n",
            "           1       0.98      0.71      0.82       805\n",
            "\n",
            "    accuracy                           0.87      1816\n",
            "   macro avg       0.89      0.85      0.86      1816\n",
            "weighted avg       0.89      0.87      0.86      1816\n",
            "\n"
          ]
        },
        {
          "data": {
            "image/png": "[encoded data removed]",
            "text/plain": [
              "<Figure size 1000x500 with 2 Axes>"
            ]
          },
          "metadata": {},
          "output_type": "display_data"
        },
        {
          "data": {
            "image/png": "[encoded data removed]",
            "text/plain": [
              "<Figure size 1000x1000 with 1 Axes>"
            ]
          },
          "metadata": {},
          "output_type": "display_data"
        }
      ],
      "source": [
        "EMBEDDING_VECTOR_DIM = 300\n",
        "BATCH_SIZE = 64\n",
        "LEARNING_RATE = 4e-4\n",
        "WEIGHT_DECAY = 1e-2\n",
        "EPOCHS = 25\n",
        "SEQUENCE_LEN = 64\n",
        "CNN_FILTERS = 64\n",
        "KERNEL_SIZE = 3\n",
        "\n",
        "cnn_model = CNN(embedding_dim=EMBEDDING_VECTOR_DIM, num_filters=CNN_FILTERS, sequence_len=SEQUENCE_LEN, kernel_size= KERNEL_SIZE)\n",
        "\n",
        "loss_function = nn.CrossEntropyLoss()\n",
        "optimizer = optim.Adam(cnn_model.parameters(), lr=LEARNING_RATE, weight_decay=WEIGHT_DECAY)\n",
        "\n",
        "cnn_model_train_history = train_model(\n",
        "    model=cnn_model,\n",
        "    batch_size=BATCH_SIZE,\n",
        "    loss_function=loss_function,\n",
        "    optimizer=optimizer,\n",
        "    epochs=EPOCHS,\n",
        "    train_set=train_dataset,\n",
        "    valid_set=valid_dataset,\n",
        "    device='cuda' if torch.cuda.is_available() else 'cpu'\n",
        ")\n",
        "\n",
        "trend_plot_helper(\n",
        "    {\n",
        "        \"Accuracy - Epoch\": [\n",
        "            (\"Train Acc\", cnn_model_train_history[\"train_acc\"]),\n",
        "            (\"Validation Acc\", cnn_model_train_history[\"valid_acc\"]),\n",
        "        ],\n",
        "        \"Loss - Epoch\": [\n",
        "            (\"Train Loss\", cnn_model_train_history[\"train_loss\"]),\n",
        "            (\"Validation Loss\", cnn_model_train_history[\"valid_loss\"])\n",
        "        ]\n",
        "    }\n",
        ")\n",
        "\n",
        "cnn_model_report = generate_confusion_matrix(\n",
        "    model=cnn_model,\n",
        "    dataset=valid_dataset,\n",
        "    device='cuda' if torch.cuda.is_available() else 'cpu'\n",
        ")\n",
        "\n",
        "print(f\"Recall:    {cnn_model_report['recall']:.3f}\")\n",
        "print(f\"F1:        {cnn_model_report['f1']:.3f}\")\n",
        "print(f\"Precision: {cnn_model_report['precision']:.3f}\")\n",
        "print(cnn_model_report['report'])"
      ]
    },
    {
      "cell_type": "markdown",
      "metadata": {
        "id": "iX22z3OYNMkS"
      },
      "source": [
        "<a id='questions2'></a>\n",
        "\n",
        "<h1 style = \"color:red;font-size:30px\" dir = \"ltr\"> <b>\n",
        "    Questions\n",
        "</b> </h1>"
      ]
    },
    {
      "cell_type": "markdown",
      "metadata": {
        "id": "nBJ8UCmg6gPf"
      },
      "source": [
        "<h1 style = \"color:green;font-size:20px\" dir = \"ltr\"> <b>\n",
        "    Briefly explain how the Adam optimizer works and how it differs from the SGD optimizer.\n",
        "</b> </h1>\n",
        "\n",
        "- **SGD (Stochastic Gradient Descent)**:\n",
        "\n",
        "  - SGD updates the weights of the model based on the current gradient of the loss function. This means it takes a small step in the direction that minimizes the loss.\n",
        "\n",
        "  - It uses a single learning rate for all weights, which can be challenging to tune. A high learning rate might cause the model to jump around the minimum point instead of converging smoothly, while a low learning rate might lead to slow training.\n",
        "\n",
        "- **Adam (Adaptive Moment Estimation)**:\n",
        "\n",
        "  - Adam builds on SGD by addressing its learning rate issues. It maintains two estimates for each weight:\n",
        "\n",
        "  - A moving average of the gradients (similar to momentum in SGD) to track the overall direction for weight updates.\n",
        "  \n",
        "  - A moving average of the squared gradients to adapt the learning rate for each weight individually.\n",
        "  \n",
        "  - Adam uses these estimates to adjust the learning rate for each weight during each update. This allows for faster convergence and reduces sensitivity to a single, global learning rate.\n",
        "\n",
        "- **Differences**:\n",
        "\n",
        "  - **Learning Rate Adaptation**: SGD has a single learning rate for all weights, while Adam adapts the learning rate for each weight individually.\n",
        "  \n",
        "  - **Momentum**: Both use momentum to improve convergence, but Adam incorporates it into its adaptive learning rate calculations.\n",
        "\n",
        "  - **Convergence Speed**: Adam often converges faster and is more stable compared to SGD due to the adaptive learning rates."
      ]
    },
    {
      "cell_type": "markdown",
      "metadata": {
        "id": "AXpt2woY83eK"
      },
      "source": [
        "<h1 style = \"color:green;font-size:20px\" dir = \"ltr\"> <b>\n",
        "    Use the Cross Entropy cost function. Also, tell the reason for using this cost function according to the nature of the problem.\n",
        "</b> </h1>\n",
        "\n",
        "The Cross Entropy loss is calculated using a logarithmic function to penalize larger differences between the probabilities. Here's a simplified formula for binary classification:\n",
        "\n",
        "```\n",
        "Loss = - (y * log(p) + (1-y) * log(1-p))\n",
        "```\n",
        "\n",
        "- y represents the actual class label (0 or 1)\n",
        "\n",
        "- p represents the predicted probability of the positive class (e.g., suicidal)\n",
        "\n",
        "The loss increases as the predicted probability p diverges from the actual class label y. For a perfectly classified example (predicted probability of 1 for a suicidal tweet), the loss becomes zero.\n",
        "\n",
        "In this scenario, the Cross Entropy cost function is a suitable choice for several reasons:\n",
        "\n",
        "1. **Binary Classification**: The problem involves classifying tweets into two categories: suicidal (1) or non-suicidal (0). Cross Entropy is specifically designed for binary classification tasks.\n",
        "\n",
        "2. **Well-behaved Cost Function**:  Cross Entropy provides a smooth and well-behaved cost function for training neural networks with softmax output (used for probability distribution). This allows the model to learn effectively by providing clear gradients for weight updates.\n",
        "\n",
        "3. **Penalizing Incorrect Probabilities**:  It penalizes the model for predicting probabilities far from the actual class. In this case, the model is penalized for assigning high probabilities to non-suicidal tweets when they are actually suicidal (and vice versa). This encourages the model to learn accurate class probabilities for each tweet.\n",
        "\n",
        "4. ** Interpretable**: The loss relates to the KL Divergence, which measures the difference between distributions, making it easier to understand model performance.\n"
      ]
    },
    {
      "cell_type": "markdown",
      "metadata": {
        "id": "RaFxi6I7BxG-"
      },
      "source": [
        "<h1 style = \"color:green;font-size:20px\" dir = \"ltr\"> <b>\n",
        "    Now divide the data into two parts, training and testing. Report the ratio of this division and why you use this ratio.\n",
        "</b> </h1>\n",
        "\n",
        "A commonly used split ratio for training and testing data is 80% for training and 20% for testing. This is a good starting point for many machine learning tasks and offers several advantages:\n",
        "\n",
        "- **Learning from Examples**: The training data (80%) allows the model to learn the relationships between the text features (words in tweets) and the corresponding labels (suicidal or non-suicidal).\n",
        "\n",
        "- **Generalizability Evaluation**: The testing data (20%) helps assess how well the trained model performs on unseen tweets. This prevents the model from simply memorizing the training examples and ensures it can generalize to new data.\n",
        "\n",
        "- **Balancing Extremes**: An 80/20 split provides a balance between having enough data for training and enough data for testing. It avoids situations where the model is either over-exposed to the training data or doesn't have enough information to learn effectively."
      ]
    },
    {
      "cell_type": "markdown",
      "metadata": {
        "id": "Um8al0liFCyB"
      },
      "source": [
        "<h1 style = \"color:green;font-size:20px\" dir = \"ltr\"> <b>\n",
        "    What is the effect of kernel size in convolution layers and how is it effective in extracting input features? What does it mean to be more or less?\n",
        "</b> </h1>\n",
        "\n",
        "The kernel size in convolutional layers plays a crucial role in extracting features from input data, particularly in image and text classification tasks.\n",
        "\n",
        "- **Kernel Size and Feature Extraction**:\n",
        "\n",
        "  - A kernel, also known as a filter, is a small matrix that slides across the input data (image or text sequence) during the convolution operation.\n",
        "\n",
        "  - The size of the kernel determines the area of the input it considers at a time.\n",
        "\n",
        "  - As the kernel slides, it performs element-wise multiplication with the underlying input data, capturing specific patterns within that local region.\n",
        "\n",
        "- **Impact of Kernel Size**:\n",
        "\n",
        "  - **Smaller Kernel Size (3x3, 5x5)**:\n",
        "\n",
        "    - Focuses on extracting low-level features like edges, lines, and local patterns in images or n-grams (sequences of n words) in text.\n",
        "\n",
        "    - Can be effective for capturing basic building blocks of higher-level features.\n",
        "\n",
        "    - Often used in the initial layers of a convolutional neural network (CNN) to learn these fundamental aspects of the data.\n",
        "\n",
        "  - **Larger Kernel Size (7x7, or even up to 11x11)**:\n",
        "\n",
        "    - Can capture more complex features by considering a larger area of the input data.\n",
        "\n",
        "    - In images, this might involve identifying shapes, object parts, or even small objects themselves.\n",
        "\n",
        "    - In text, it could capture phrases or short sentences within a tweet.\n",
        "\n",
        "    - May be more suitable for later layers in a CNN, where the model builds upon the low-level features to identify more intricate patterns."
      ]
    },
    {
      "cell_type": "markdown",
      "metadata": {
        "id": "yL2Qb3j1IK7Q"
      },
      "source": [
        "<h1 style = \"color:green;font-size:20px\" dir = \"ltr\"> <b>\n",
        "    In your opinion, why didn't we reduce the convolution output and did this reduction through Feed Forward layers and what advantages can this layer have over alternative methods? Investigate the reason for this and state the results.\n",
        "</b> </h1>\n",
        "\n",
        "Reasons for Not Reducing Convolution Output Explicitly:\n",
        "\n",
        "  - **Preserving Spatial Information**: Convolution layers inherently capture spatial relationships between features in the input data (images or text sequences). Reducing the dimensionality before FC layers might discard valuable spatial information, particularly in the early stages of a CNN.\n",
        "\n",
        "  - **Learning Feature Maps**: Convolutional layers learn feature maps that represent different aspects of the input. Maintaining the full dimensionality allows the model to capture a richer set of features before performing any reduction.\n",
        "\n",
        "  - **Flexibility for FC Layers**: FC layers are highly flexible and can be used for dimensionality reduction later in the network architecture. This allows for more control over the final feature representation before classification.\n",
        "\n",
        "Advantages of FC Layers for Dimensionality Reduction:\n",
        "\n",
        "  - **Learned Reduction**: FC layers can learn how to best reduce the dimensionality of the features based on the specific task. This learned reduction might be more effective than a pre-defined approach like pooling layers (e.g., max pooling, average pooling).\n",
        "\n",
        "  - **Non-linear Activation**: FC layers can be combined with non-linear activation functions (e.g., ReLU) before reduction. This allows the model to learn more complex feature representations that might not be captured by simple pooling operations.\n",
        "\n",
        "  - **Adaptability**: FC layers offer greater control over the final feature representation. You can experiment with different numbers of neurons in the FC layer to achieve the desired level of dimensionality reduction while maintaining good performance."
      ]
    },
    {
      "cell_type": "markdown",
      "metadata": {
        "id": "5Xzq21SdKmSU"
      },
      "source": [
        "<a id='part3'></a>\n",
        "\n",
        "<h1 style = \"color:red;text-align: center;font-size:50px\"> <b>\n",
        "    Part III: Effect of context window size\n",
        "</b> </h1>"
      ]
    },
    {
      "cell_type": "code",
      "execution_count": 40,
      "metadata": {
        "colab": {
          "base_uri": "https://localhost:8080/"
        },
        "id": "nKhS-KQGpxTp",
        "outputId": "76ad48ff-d384-4c94-a37f-25e08857bfdb"
      },
      "outputs": [
        {
          "name": "stdout",
          "output_type": "stream",
          "text": [
            "Deleted 0-Len Samples: 21\n",
            "Deleted 0-Len Samples: 8\n",
            "Train dataset length: 7274\n",
            "Valid dataset length: 1816\n"
          ]
        }
      ],
      "source": [
        "EMBEDDING_VECTOR_DIM = 300\n",
        "BATCH_SIZE = 64\n",
        "LEARNING_RATE = 4e-4\n",
        "WEIGHT_DECAY = 1e-2\n",
        "EPOCHS = 25\n",
        "SEQUENCE_LEN = 196\n",
        "CNN_FILTERS = 64\n",
        "KERNEL_SIZE = 3\n",
        "\n",
        "train_df, valid_df = train_test_split(df, test_size=0.2, random_state=42)\n",
        "train_dataset = Twitter(train_df, w2v_model, SEQUENCE_LEN)\n",
        "valid_dataset = Twitter(valid_df, w2v_model, SEQUENCE_LEN)\n",
        "\n",
        "print(f\"Train dataset length: {len(train_dataset)}\")\n",
        "print(f\"Valid dataset length: {len(valid_dataset)}\")"
      ]
    },
    {
      "cell_type": "code",
      "execution_count": 41,
      "metadata": {
        "colab": {
          "base_uri": "https://localhost:8080/",
          "height": 1000
        },
        "id": "Zo_t9YpgPKXQ",
        "outputId": "b56318f4-b2f1-436d-b00e-06b7d60fef4c"
      },
      "outputs": [
        {
          "name": "stderr",
          "output_type": "stream",
          "text": []
        },
        {
          "name": "stdout",
          "output_type": "stream",
          "text": [
            "Epoch 1/25, Train Loss: 0.4123, Train Acc: 82.9667, Valid Loss: 0.3536, Valid Acc: 85.4626\n"
          ]
        },
        {
          "name": "stderr",
          "output_type": "stream",
          "text": []
        },
        {
          "name": "stdout",
          "output_type": "stream",
          "text": [
            "Epoch 2/25, Train Loss: 0.3601, Train Acc: 84.3415, Valid Loss: 0.3450, Valid Acc: 85.6828\n"
          ]
        },
        {
          "name": "stderr",
          "output_type": "stream",
          "text": []
        },
        {
          "name": "stdout",
          "output_type": "stream",
          "text": [
            "Epoch 3/25, Train Loss: 0.3555, Train Acc: 84.7814, Valid Loss: 0.3494, Valid Acc: 85.0220\n"
          ]
        },
        {
          "name": "stderr",
          "output_type": "stream",
          "text": []
        },
        {
          "name": "stdout",
          "output_type": "stream",
          "text": [
            "Epoch 4/25, Train Loss: 0.3521, Train Acc: 84.8089, Valid Loss: 0.3396, Valid Acc: 85.9581\n"
          ]
        },
        {
          "name": "stderr",
          "output_type": "stream",
          "text": []
        },
        {
          "name": "stdout",
          "output_type": "stream",
          "text": [
            "Epoch 5/25, Train Loss: 0.3500, Train Acc: 85.0701, Valid Loss: 0.3374, Valid Acc: 86.2885\n"
          ]
        },
        {
          "name": "stderr",
          "output_type": "stream",
          "text": []
        },
        {
          "name": "stdout",
          "output_type": "stream",
          "text": [
            "Epoch 6/25, Train Loss: 0.3530, Train Acc: 85.0289, Valid Loss: 0.3444, Valid Acc: 85.4075\n"
          ]
        },
        {
          "name": "stderr",
          "output_type": "stream",
          "text": []
        },
        {
          "name": "stdout",
          "output_type": "stream",
          "text": [
            "Epoch 7/25, Train Loss: 0.3456, Train Acc: 85.3726, Valid Loss: 0.3333, Valid Acc: 86.3987\n"
          ]
        },
        {
          "name": "stderr",
          "output_type": "stream",
          "text": []
        },
        {
          "name": "stdout",
          "output_type": "stream",
          "text": [
            "Epoch 8/25, Train Loss: 0.3476, Train Acc: 85.2626, Valid Loss: 0.3364, Valid Acc: 86.6740\n"
          ]
        },
        {
          "name": "stderr",
          "output_type": "stream",
          "text": []
        },
        {
          "name": "stdout",
          "output_type": "stream",
          "text": [
            "Epoch 9/25, Train Loss: 0.3445, Train Acc: 85.2488, Valid Loss: 0.3306, Valid Acc: 86.1784\n"
          ]
        },
        {
          "name": "stderr",
          "output_type": "stream",
          "text": []
        },
        {
          "name": "stdout",
          "output_type": "stream",
          "text": [
            "Epoch 10/25, Train Loss: 0.3460, Train Acc: 85.2488, Valid Loss: 0.3363, Valid Acc: 86.0683\n"
          ]
        },
        {
          "name": "stderr",
          "output_type": "stream",
          "text": []
        },
        {
          "name": "stdout",
          "output_type": "stream",
          "text": [
            "Epoch 11/25, Train Loss: 0.3394, Train Acc: 85.6613, Valid Loss: 0.3397, Valid Acc: 85.6278\n"
          ]
        },
        {
          "name": "stderr",
          "output_type": "stream",
          "text": []
        },
        {
          "name": "stdout",
          "output_type": "stream",
          "text": [
            "Epoch 12/25, Train Loss: 0.3383, Train Acc: 85.9362, Valid Loss: 0.3373, Valid Acc: 85.2974\n"
          ]
        },
        {
          "name": "stderr",
          "output_type": "stream",
          "text": []
        },
        {
          "name": "stdout",
          "output_type": "stream",
          "text": [
            "Epoch 13/25, Train Loss: 0.3376, Train Acc: 85.6613, Valid Loss: 0.3293, Valid Acc: 86.2335\n"
          ]
        },
        {
          "name": "stderr",
          "output_type": "stream",
          "text": []
        },
        {
          "name": "stdout",
          "output_type": "stream",
          "text": [
            "Epoch 14/25, Train Loss: 0.3321, Train Acc: 86.1012, Valid Loss: 0.3233, Valid Acc: 87.0044\n"
          ]
        },
        {
          "name": "stderr",
          "output_type": "stream",
          "text": []
        },
        {
          "name": "stdout",
          "output_type": "stream",
          "text": [
            "Epoch 15/25, Train Loss: 0.3266, Train Acc: 86.3486, Valid Loss: 0.3211, Valid Acc: 86.9493\n"
          ]
        },
        {
          "name": "stderr",
          "output_type": "stream",
          "text": []
        },
        {
          "name": "stdout",
          "output_type": "stream",
          "text": [
            "Epoch 16/25, Train Loss: 0.3294, Train Acc: 85.9637, Valid Loss: 0.3161, Valid Acc: 87.0044\n"
          ]
        },
        {
          "name": "stderr",
          "output_type": "stream",
          "text": []
        },
        {
          "name": "stdout",
          "output_type": "stream",
          "text": [
            "Epoch 17/25, Train Loss: 0.3183, Train Acc: 86.6373, Valid Loss: 0.3276, Valid Acc: 85.6278\n"
          ]
        },
        {
          "name": "stderr",
          "output_type": "stream",
          "text": []
        },
        {
          "name": "stdout",
          "output_type": "stream",
          "text": [
            "Epoch 18/25, Train Loss: 0.3201, Train Acc: 86.2799, Valid Loss: 0.3160, Valid Acc: 87.2797\n"
          ]
        },
        {
          "name": "stderr",
          "output_type": "stream",
          "text": []
        },
        {
          "name": "stdout",
          "output_type": "stream",
          "text": [
            "Epoch 19/25, Train Loss: 0.3109, Train Acc: 86.8161, Valid Loss: 0.3146, Valid Acc: 86.4537\n"
          ]
        },
        {
          "name": "stderr",
          "output_type": "stream",
          "text": []
        },
        {
          "name": "stdout",
          "output_type": "stream",
          "text": [
            "Epoch 20/25, Train Loss: 0.3079, Train Acc: 86.9260, Valid Loss: 0.3041, Valid Acc: 87.1145\n"
          ]
        },
        {
          "name": "stderr",
          "output_type": "stream",
          "text": []
        },
        {
          "name": "stdout",
          "output_type": "stream",
          "text": [
            "Epoch 21/25, Train Loss: 0.2995, Train Acc: 87.1048, Valid Loss: 0.3015, Valid Acc: 87.1696\n"
          ]
        },
        {
          "name": "stderr",
          "output_type": "stream",
          "text": []
        },
        {
          "name": "stdout",
          "output_type": "stream",
          "text": [
            "Epoch 22/25, Train Loss: 0.2976, Train Acc: 87.2972, Valid Loss: 0.2945, Valid Acc: 87.9405\n"
          ]
        },
        {
          "name": "stderr",
          "output_type": "stream",
          "text": []
        },
        {
          "name": "stdout",
          "output_type": "stream",
          "text": [
            "Epoch 23/25, Train Loss: 0.2949, Train Acc: 87.2972, Valid Loss: 0.2920, Valid Acc: 87.5000\n"
          ]
        },
        {
          "name": "stderr",
          "output_type": "stream",
          "text": []
        },
        {
          "name": "stdout",
          "output_type": "stream",
          "text": [
            "Epoch 24/25, Train Loss: 0.2918, Train Acc: 87.5722, Valid Loss: 0.3005, Valid Acc: 87.4449\n"
          ]
        },
        {
          "name": "stderr",
          "output_type": "stream",
          "text": []
        },
        {
          "name": "stdout",
          "output_type": "stream",
          "text": [
            "Epoch 25/25, Train Loss: 0.2905, Train Acc: 87.4347, Valid Loss: 0.3064, Valid Acc: 87.1145\n"
          ]
        },
        {
          "name": "stderr",
          "output_type": "stream",
          "text": []
        },
        {
          "name": "stdout",
          "output_type": "stream",
          "text": [
            "Recall:    0.868\n",
            "F1:        0.869\n",
            "Precision: 0.870\n",
            "              precision    recall  f1-score   support\n",
            "\n",
            "           0       0.88      0.89      0.89      1011\n",
            "           1       0.86      0.84      0.85       805\n",
            "\n",
            "    accuracy                           0.87      1816\n",
            "   macro avg       0.87      0.87      0.87      1816\n",
            "weighted avg       0.87      0.87      0.87      1816\n",
            "\n"
          ]
        },
        {
          "data": {
            "image/png": "[encoded data removed]",
            "text/plain": [
              "<Figure size 1000x500 with 2 Axes>"
            ]
          },
          "metadata": {},
          "output_type": "display_data"
        },
        {
          "data": {
            "image/png": "[encoded data removed]",
            "text/plain": [
              "<Figure size 1000x1000 with 1 Axes>"
            ]
          },
          "metadata": {},
          "output_type": "display_data"
        }
      ],
      "source": [
        "cnn_model = CNN(embedding_dim=EMBEDDING_VECTOR_DIM, num_filters=CNN_FILTERS, sequence_len=SEQUENCE_LEN, kernel_size= KERNEL_SIZE)\n",
        "\n",
        "loss_function = nn.CrossEntropyLoss()\n",
        "optimizer = optim.Adam(cnn_model.parameters(), lr=LEARNING_RATE, weight_decay=WEIGHT_DECAY)\n",
        "\n",
        "cnn_model_train_history = train_model(\n",
        "    model=cnn_model,\n",
        "    batch_size=BATCH_SIZE,\n",
        "    loss_function=loss_function,\n",
        "    optimizer=optimizer,\n",
        "    epochs=EPOCHS,\n",
        "    train_set=train_dataset,\n",
        "    valid_set=valid_dataset,\n",
        "    device='cuda' if torch.cuda.is_available() else 'cpu'\n",
        ")\n",
        "\n",
        "trend_plot_helper(\n",
        "    {\n",
        "        \"Accuracy - Epoch\": [\n",
        "            (\"Train Acc\", cnn_model_train_history[\"train_acc\"]),\n",
        "            (\"Validation Acc\", cnn_model_train_history[\"valid_acc\"]),\n",
        "        ],\n",
        "        \"Loss - Epoch\": [\n",
        "            (\"Train Loss\", cnn_model_train_history[\"train_loss\"]),\n",
        "            (\"Validation Loss\", cnn_model_train_history[\"valid_loss\"])\n",
        "        ]\n",
        "    }\n",
        ")\n",
        "\n",
        "cnn_model_report = generate_confusion_matrix(\n",
        "    model=cnn_model,\n",
        "    dataset=valid_dataset,\n",
        "    device='cuda' if torch.cuda.is_available() else 'cpu'\n",
        ")\n",
        "\n",
        "print(f\"Recall:    {cnn_model_report['recall']:.3f}\")\n",
        "print(f\"F1:        {cnn_model_report['f1']:.3f}\")\n",
        "print(f\"Precision: {cnn_model_report['precision']:.3f}\")\n",
        "print(cnn_model_report['report'])\n"
      ]
    },
    {
      "cell_type": "markdown",
      "metadata": {
        "id": "PD5b1G12M3x9"
      },
      "source": [
        "<a id='questions3'></a>\n",
        "\n",
        "<h1 style = \"color:red;font-size:30px\" dir = \"ltr\"> <b>\n",
        "    Questions\n",
        "</b> </h1>"
      ]
    },
    {
      "cell_type": "markdown",
      "metadata": {
        "id": "UDsDZ4W_NAXT"
      },
      "source": [
        "<h1 style = \"color:green;font-size:20px\" dir = \"ltr\"> <b>\n",
        "    In your opinion, what are the advantages and disadvantages of increasing the size of the context window, so that it is larger than the entire dataset, in a convolutional neural network.\n",
        "</b> </h1>\n",
        "\n",
        "- **Advantages**:\n",
        "\n",
        "  - **Capturing Long-Range Dependencies (Limited)**: In some tasks, like natural language processing (NLP) where sentences or paragraphs are the input, a larger context window might theoretically capture long-range dependencies between words that are further apart in the sequence. However, this benefit diminishes as the window size becomes significantly larger than the typical sequence length in the dataset.\n",
        "\n",
        "  - **Reduced Need for Preprocessing**: If the context window is large enough to encompass the entire dataset, you might eliminate the need for preprocessing steps like data segmentation. However, this approach can be computationally expensive and impractical for most real-world datasets.\n",
        "\n",
        "- **Disadvantages**:\n",
        "\n",
        "  - **Increased Computational Cost**: Larger context windows require processing more data during convolution, leading to higher memory usage and longer training times. This can become a significant bottleneck, especially for large datasets or limited computational resources.\n",
        "\n",
        "  - **Vanishing Gradients**: In CNNs, gradients are used to update model weights during training. With very large context windows, gradients might vanish or explode, making it difficult for the model to learn effectively. Techniques like gradient clipping or specific weight initialization can help mitigate this issue, but it adds complexity to the training process.\n",
        "\n",
        "  - **Reduced Model Generalizability**: A model trained with a context window larger than the dataset might struggle to generalize to unseen data with different sequence lengths. It might become overly reliant on specific patterns within the training data that may not be present in new data.\n",
        "\n",
        "  - **Potential for Redundancy**: For most tasks, information relevant to a specific prediction is often localized within a reasonable window size. A very large context window might introduce a lot of irrelevant information that can hinder the model's ability to focus on the essential features."
      ]
    },
    {
      "cell_type": "markdown",
      "metadata": {
        "id": "_OkRGgP1OjiS"
      },
      "source": [
        ":<a id='part4'></a>\n",
        "\n",
        "<h1 style = \"color:red;text-align: center;font-size:50px\"> <b>\n",
        "    Part IV: Effect of regularization methods\n",
        "</b> </h1>"
      ]
    },
    {
      "cell_type": "code",
      "execution_count": 31,
      "metadata": {
        "id": "vogP1zy_ETWO"
      },
      "outputs": [],
      "source": [
        "class CNN(nn.Module):\n",
        "    def __init__(self, embedding_dim, num_filters, sequence_len, kernel_size):\n",
        "        super(CNN, self).__init__()\n",
        "        self.embedding_dim = embedding_dim\n",
        "        self.num_filters = num_filters\n",
        "        self.sequence_len = sequence_len\n",
        "        self.kernel_size = kernel_size\n",
        "\n",
        "        self.conv1 = nn.Conv1d(in_channels = sequence_len, out_channels=num_filters, kernel_size= self.kernel_size, stride= 1)\n",
        "        self.conv2 = nn.Conv1d(in_channels=num_filters, out_channels=128, kernel_size= self.kernel_size, stride= 1)\n",
        "        self.max_pool = nn.MaxPool1d(kernel_size = self.kernel_size)\n",
        "        self.relu = nn.ReLU()\n",
        "        self.flatten = nn.Flatten()\n",
        "        self.dropout = nn.Dropout(0.5)\n",
        "        self.batch_norm1 = nn.BatchNorm1d(num_filters)\n",
        "        self.batch_norm2 = nn.BatchNorm1d(128)\n",
        "\n",
        "        self.flatten_dim = self._get_flatten_dim()\n",
        "        self.fc1 = nn.Linear(self.flatten_dim, 128)\n",
        "        self.bn1 = nn.BatchNorm1d(128)\n",
        "        self.fc2 = nn.Linear(128, 2)\n",
        "        self.bn2 = nn.BatchNorm1d(2)\n",
        "\n",
        "    def _get_flatten_dim(self):\n",
        "        input = torch.zeros(self.num_filters, self.sequence_len, self.embedding_dim)\n",
        "        output = self.conv1(input)\n",
        "        output = self.batch_norm1(output)\n",
        "        output = self.max_pool(output)\n",
        "        output = self.conv2(output)\n",
        "        output = self.batch_norm2(output)\n",
        "        output = self.max_pool(output)\n",
        "        output = self.flatten(output)\n",
        "        return output.size()[1]\n",
        "\n",
        "    def forward(self, x):\n",
        "        x = self.conv1(x)\n",
        "        x = self.batch_norm1(x)\n",
        "        x = self.relu(x)\n",
        "        x = self.max_pool(x)\n",
        "        x = self.conv2(x)\n",
        "        x = self.batch_norm2(x)\n",
        "        x = self.relu(x)\n",
        "        x = self.max_pool(x)\n",
        "        x = self.flatten(x)\n",
        "        x = self.dropout(x)\n",
        "        x = self.fc1(x)\n",
        "        x = self.bn1(x)\n",
        "        x = self.relu(x)\n",
        "        x = self.dropout(x)\n",
        "        x = self.fc2(x)\n",
        "        x = self.bn2(x)\n",
        "        return x"
      ]
    },
    {
      "cell_type": "code",
      "execution_count": 34,
      "metadata": {
        "colab": {
          "base_uri": "https://localhost:8080/"
        },
        "id": "cg0hvFqOp2i4",
        "outputId": "b1744172-48a4-451b-dc0d-09eaa9a74474"
      },
      "outputs": [
        {
          "name": "stdout",
          "output_type": "stream",
          "text": [
            "Deleted 0-Len Samples: 21\n",
            "Deleted 0-Len Samples: 8\n",
            "Train dataset length: 7274\n",
            "Valid dataset length: 1816\n"
          ]
        }
      ],
      "source": [
        "EMBEDDING_VECTOR_DIM = 300\n",
        "BATCH_SIZE = 64\n",
        "LEARNING_RATE = 4e-4\n",
        "WEIGHT_DECAY = 1e-2\n",
        "EPOCHS = 25\n",
        "SEQUENCE_LEN = 64\n",
        "CNN_FILTERS = 64\n",
        "KERNEL_SIZE = 3\n",
        "\n",
        "train_df, valid_df = train_test_split(df, test_size=0.2, random_state=42)\n",
        "train_dataset = Twitter(train_df, w2v_model, SEQUENCE_LEN)\n",
        "valid_dataset = Twitter(valid_df, w2v_model, SEQUENCE_LEN)\n",
        "\n",
        "print(f\"Train dataset length: {len(train_dataset)}\")\n",
        "print(f\"Valid dataset length: {len(valid_dataset)}\")"
      ]
    },
    {
      "cell_type": "code",
      "execution_count": 36,
      "metadata": {
        "colab": {
          "base_uri": "https://localhost:8080/",
          "height": 1000
        },
        "id": "7stGud6lflZ4",
        "outputId": "c557313c-a00f-4097-e5ff-69cb067f2381"
      },
      "outputs": [
        {
          "name": "stderr",
          "output_type": "stream",
          "text": []
        },
        {
          "name": "stdout",
          "output_type": "stream",
          "text": [
            "Epoch 1/25, Train Loss: 0.3880, Train Acc: 83.5304, Valid Loss: 0.3565, Valid Acc: 85.3524\n"
          ]
        },
        {
          "name": "stderr",
          "output_type": "stream",
          "text": []
        },
        {
          "name": "stdout",
          "output_type": "stream",
          "text": [
            "Epoch 2/25, Train Loss: 0.3390, Train Acc: 86.4311, Valid Loss: 0.3103, Valid Acc: 87.3348\n"
          ]
        },
        {
          "name": "stderr",
          "output_type": "stream",
          "text": []
        },
        {
          "name": "stdout",
          "output_type": "stream",
          "text": [
            "Epoch 3/25, Train Loss: 0.3076, Train Acc: 88.2733, Valid Loss: 0.3057, Valid Acc: 87.0595\n"
          ]
        },
        {
          "name": "stderr",
          "output_type": "stream",
          "text": []
        },
        {
          "name": "stdout",
          "output_type": "stream",
          "text": [
            "Epoch 4/25, Train Loss: 0.2774, Train Acc: 89.8818, Valid Loss: 0.2989, Valid Acc: 88.7665\n"
          ]
        },
        {
          "name": "stderr",
          "output_type": "stream",
          "text": []
        },
        {
          "name": "stdout",
          "output_type": "stream",
          "text": [
            "Epoch 5/25, Train Loss: 0.2589, Train Acc: 91.3665, Valid Loss: 0.3396, Valid Acc: 87.0044\n"
          ]
        },
        {
          "name": "stderr",
          "output_type": "stream",
          "text": []
        },
        {
          "name": "stdout",
          "output_type": "stream",
          "text": [
            "Epoch 6/25, Train Loss: 0.2403, Train Acc: 91.7652, Valid Loss: 0.2987, Valid Acc: 87.8304\n"
          ]
        },
        {
          "name": "stderr",
          "output_type": "stream",
          "text": []
        },
        {
          "name": "stdout",
          "output_type": "stream",
          "text": [
            "Epoch 7/25, Train Loss: 0.2237, Train Acc: 92.6450, Valid Loss: 0.3006, Valid Acc: 87.0044\n"
          ]
        },
        {
          "name": "stderr",
          "output_type": "stream",
          "text": []
        },
        {
          "name": "stdout",
          "output_type": "stream",
          "text": [
            "Epoch 8/25, Train Loss: 0.2167, Train Acc: 92.8375, Valid Loss: 0.2700, Valid Acc: 89.2621\n"
          ]
        },
        {
          "name": "stderr",
          "output_type": "stream",
          "text": []
        },
        {
          "name": "stdout",
          "output_type": "stream",
          "text": [
            "Epoch 9/25, Train Loss: 0.2027, Train Acc: 93.7311, Valid Loss: 0.2843, Valid Acc: 87.9405\n"
          ]
        },
        {
          "name": "stderr",
          "output_type": "stream",
          "text": []
        },
        {
          "name": "stdout",
          "output_type": "stream",
          "text": [
            "Epoch 10/25, Train Loss: 0.1963, Train Acc: 93.7998, Valid Loss: 0.2689, Valid Acc: 89.5925\n"
          ]
        },
        {
          "name": "stderr",
          "output_type": "stream",
          "text": []
        },
        {
          "name": "stdout",
          "output_type": "stream",
          "text": [
            "Epoch 11/25, Train Loss: 0.1836, Train Acc: 94.2535, Valid Loss: 0.3004, Valid Acc: 87.7753\n"
          ]
        },
        {
          "name": "stderr",
          "output_type": "stream",
          "text": []
        },
        {
          "name": "stdout",
          "output_type": "stream",
          "text": [
            "Epoch 12/25, Train Loss: 0.1767, Train Acc: 94.5697, Valid Loss: 0.2551, Valid Acc: 89.6476\n"
          ]
        },
        {
          "name": "stderr",
          "output_type": "stream",
          "text": []
        },
        {
          "name": "stdout",
          "output_type": "stream",
          "text": [
            "Epoch 13/25, Train Loss: 0.1739, Train Acc: 94.7072, Valid Loss: 0.2850, Valid Acc: 88.4361\n"
          ]
        },
        {
          "name": "stderr",
          "output_type": "stream",
          "text": []
        },
        {
          "name": "stdout",
          "output_type": "stream",
          "text": [
            "Epoch 14/25, Train Loss: 0.1657, Train Acc: 94.9684, Valid Loss: 0.2742, Valid Acc: 89.0969\n"
          ]
        },
        {
          "name": "stderr",
          "output_type": "stream",
          "text": []
        },
        {
          "name": "stdout",
          "output_type": "stream",
          "text": [
            "Epoch 15/25, Train Loss: 0.1601, Train Acc: 95.0921, Valid Loss: 0.3453, Valid Acc: 84.3612\n"
          ]
        },
        {
          "name": "stderr",
          "output_type": "stream",
          "text": []
        },
        {
          "name": "stdout",
          "output_type": "stream",
          "text": [
            "Epoch 16/25, Train Loss: 0.1565, Train Acc: 95.4358, Valid Loss: 0.2695, Valid Acc: 88.2159\n"
          ]
        },
        {
          "name": "stderr",
          "output_type": "stream",
          "text": []
        },
        {
          "name": "stdout",
          "output_type": "stream",
          "text": [
            "Epoch 17/25, Train Loss: 0.1540, Train Acc: 95.3258, Valid Loss: 0.2776, Valid Acc: 88.9317\n"
          ]
        },
        {
          "name": "stderr",
          "output_type": "stream",
          "text": []
        },
        {
          "name": "stdout",
          "output_type": "stream",
          "text": [
            "Epoch 18/25, Train Loss: 0.1525, Train Acc: 95.1196, Valid Loss: 0.2969, Valid Acc: 88.8216\n"
          ]
        },
        {
          "name": "stderr",
          "output_type": "stream",
          "text": []
        },
        {
          "name": "stdout",
          "output_type": "stream",
          "text": [
            "Epoch 19/25, Train Loss: 0.1390, Train Acc: 95.9307, Valid Loss: 0.2638, Valid Acc: 89.4273\n"
          ]
        },
        {
          "name": "stderr",
          "output_type": "stream",
          "text": []
        },
        {
          "name": "stdout",
          "output_type": "stream",
          "text": [
            "Epoch 20/25, Train Loss: 0.1436, Train Acc: 95.6970, Valid Loss: 0.3103, Valid Acc: 88.1057\n"
          ]
        },
        {
          "name": "stderr",
          "output_type": "stream",
          "text": []
        },
        {
          "name": "stdout",
          "output_type": "stream",
          "text": [
            "Epoch 21/25, Train Loss: 0.1349, Train Acc: 95.9445, Valid Loss: 0.2615, Valid Acc: 89.7026\n"
          ]
        },
        {
          "name": "stderr",
          "output_type": "stream",
          "text": []
        },
        {
          "name": "stdout",
          "output_type": "stream",
          "text": [
            "Epoch 22/25, Train Loss: 0.1325, Train Acc: 95.9582, Valid Loss: 0.2747, Valid Acc: 89.2070\n"
          ]
        },
        {
          "name": "stderr",
          "output_type": "stream",
          "text": []
        },
        {
          "name": "stdout",
          "output_type": "stream",
          "text": [
            "Epoch 23/25, Train Loss: 0.1268, Train Acc: 96.5768, Valid Loss: 0.2751, Valid Acc: 89.3172\n"
          ]
        },
        {
          "name": "stderr",
          "output_type": "stream",
          "text": []
        },
        {
          "name": "stdout",
          "output_type": "stream",
          "text": [
            "Epoch 24/25, Train Loss: 0.1210, Train Acc: 96.5494, Valid Loss: 0.2717, Valid Acc: 88.9317\n"
          ]
        },
        {
          "name": "stderr",
          "output_type": "stream",
          "text": []
        },
        {
          "name": "stdout",
          "output_type": "stream",
          "text": [
            "Epoch 25/25, Train Loss: 0.1236, Train Acc: 96.2469, Valid Loss: 0.2909, Valid Acc: 88.6013\n"
          ]
        },
        {
          "name": "stderr",
          "output_type": "stream",
          "text": []
        },
        {
          "name": "stdout",
          "output_type": "stream",
          "text": [
            "Recall:    0.877\n",
            "F1:        0.882\n",
            "Precision: 0.896\n",
            "              precision    recall  f1-score   support\n",
            "\n",
            "           0       0.85      0.96      0.90      1011\n",
            "           1       0.94      0.80      0.86       805\n",
            "\n",
            "    accuracy                           0.89      1816\n",
            "   macro avg       0.90      0.88      0.88      1816\n",
            "weighted avg       0.89      0.89      0.88      1816\n",
            "\n"
          ]
        },
        {
          "data": {
            "image/png": "[encoded data removed]",
            "text/plain": [
              "<Figure size 1000x500 with 2 Axes>"
            ]
          },
          "metadata": {},
          "output_type": "display_data"
        },
        {
          "data": {
            "image/png": "[encoded data removed]",
            "text/plain": [
              "<Figure size 1000x1000 with 1 Axes>"
            ]
          },
          "metadata": {},
          "output_type": "display_data"
        }
      ],
      "source": [
        "cnn_model = CNN(embedding_dim=EMBEDDING_VECTOR_DIM, num_filters=CNN_FILTERS, sequence_len=SEQUENCE_LEN, kernel_size= KERNEL_SIZE)\n",
        "\n",
        "loss_function = nn.CrossEntropyLoss()\n",
        "optimizer = optim.Adam(cnn_model.parameters(), lr=LEARNING_RATE, weight_decay=WEIGHT_DECAY)\n",
        "\n",
        "cnn_model_train_history = train_model(\n",
        "    model=cnn_model,\n",
        "    batch_size=BATCH_SIZE,\n",
        "    loss_function=loss_function,\n",
        "    optimizer=optimizer,\n",
        "    epochs=EPOCHS,\n",
        "    train_set=train_dataset,\n",
        "    valid_set=valid_dataset,\n",
        "    device='cuda' if torch.cuda.is_available() else 'cpu'\n",
        ")\n",
        "\n",
        "trend_plot_helper(\n",
        "    {\n",
        "        \"Accuracy - Epoch\": [\n",
        "            (\"Train Acc\", cnn_model_train_history[\"train_acc\"]),\n",
        "            (\"Validation Acc\", cnn_model_train_history[\"valid_acc\"]),\n",
        "        ],\n",
        "        \"Loss - Epoch\": [\n",
        "            (\"Train Loss\", cnn_model_train_history[\"train_loss\"]),\n",
        "            (\"Validation Loss\", cnn_model_train_history[\"valid_loss\"])\n",
        "        ]\n",
        "    }\n",
        ")\n",
        "\n",
        "cnn_model_report = generate_confusion_matrix(\n",
        "    model=cnn_model,\n",
        "    dataset=valid_dataset,\n",
        "    device='cuda' if torch.cuda.is_available() else 'cpu'\n",
        ")\n",
        "\n",
        "print(f\"Recall:    {cnn_model_report['recall']:.3f}\")\n",
        "print(f\"F1:        {cnn_model_report['f1']:.3f}\")\n",
        "print(f\"Precision: {cnn_model_report['precision']:.3f}\")\n",
        "print(cnn_model_report['report'])\n"
      ]
    },
    {
      "cell_type": "markdown",
      "metadata": {
        "id": "blAi13TPLfL1"
      },
      "source": [
        "<a id='references'></a>\n",
        "\n",
        "<h1 style = \"color:red;text-align: center;font-size:50px\"> <b>\n",
        "    References\n",
        "</b> </h1>\n",
        "\n",
        "https://theinformationlab.nl/2023/03/22/an-introduction-to-embeddings/\n",
        "\n",
        "https://www.analyticsvidhya.com/blog/2021/07/word2vec-for-word-embeddings-a-beginners-guide/\n",
        "\n",
        "https://pytorch.org/tutorials/beginner/basics/intro.html\n",
        "\n",
        "https://pytorch.org/tutorials/beginner/pytorch_with_examples.html\n",
        "\n",
        "https://machinelearningmastery.com/adam-optimization-algorithm-for-deep-learning/#:~:text=Adam%20is%20an%20optimization%20algorithm,iterative%20based%20in%20training%20data.&text=The%20algorithm%20is%20called%20Adam,derived%20from%20adaptive%20moment%20estimation\n",
        "\n",
        "https://towardsdatascience.com/convolutional-neural-networks-explained-9cc5188c4939\n",
        "\n",
        "https://www.analyticsvidhya.com/blog/2021/05/convolutional-neural-networks-cnn/\n",
        "\n",
        "https://machinelearningmastery.com/introduction-to-regularization-to-reduce-overfitting-and-improve-generalization-error/"
      ]
    }
  ],
  "metadata": {
    "accelerator": "GPU",
    "colab": {
      "gpuType": "T4",
      "provenance": []
    },
    "kernelspec": {
      "display_name": "Python 3",
      "name": "python3"
    },
    "language_info": {
      "name": "python"
    }
  },
  "nbformat": 4,
  "nbformat_minor": 0
}
